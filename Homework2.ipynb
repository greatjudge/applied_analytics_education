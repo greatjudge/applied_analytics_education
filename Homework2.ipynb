{
  "nbformat": 4,
  "nbformat_minor": 0,
  "metadata": {
    "kernelspec": {
      "name": "python3",
      "display_name": "Python 3"
    },
    "colab": {
      "name": "Homework2.ipynb",
      "provenance": [],
      "collapsed_sections": [
        "neLdaRbNYJ5Q",
        "BezFFUp3YJ5R",
        "rKsfOyZ0YJ5S",
        "X1iV6FAAYJ5U",
        "ARQV8HnCYJ5Y",
        "VH_OvHROYJ5b",
        "cMhwtIwMYJ5d",
        "j3S1GIHxYJ5g"
      ]
    },
    "language_info": {
      "name": "python"
    }
  },
  "cells": [
    {
      "cell_type": "code",
      "metadata": {
        "id": "Zuu5M3rqcZC-",
        "colab": {
          "base_uri": "https://localhost:8080/"
        },
        "outputId": "6ddcb8fd-4aec-4276-b754-bfe25262888c"
      },
      "source": [
        "!python --version"
      ],
      "execution_count": null,
      "outputs": [
        {
          "output_type": "stream",
          "name": "stdout",
          "text": [
            "Python 3.7.12\n"
          ]
        }
      ]
    },
    {
      "cell_type": "code",
      "metadata": {
        "id": "exP6fDDYmeGK",
        "colab": {
          "base_uri": "https://localhost:8080/"
        },
        "outputId": "b1ab2e03-18c2-42a4-b699-2c63a9d4da21"
      },
      "source": [
        "#install python 3.9\n",
        "!sudo apt-get update -y\n",
        "!sudo apt-get install python3.9\n",
        "\n",
        "#change alternatives\n",
        "!sudo update-alternatives --install /usr/bin/python3 python3 /usr/bin/python3.7 1\n",
        "!sudo update-alternatives --install /usr/bin/python3 python3 /usr/bin/python3.9 2\n",
        "\n",
        "#check python version\n",
        "!python --version"
      ],
      "execution_count": null,
      "outputs": [
        {
          "output_type": "stream",
          "name": "stdout",
          "text": [
            "\r0% [Working]\r            \rIgn:1 https://developer.download.nvidia.com/compute/cuda/repos/ubuntu1804/x86_64  InRelease\n",
            "\r0% [Connecting to archive.ubuntu.com (91.189.88.152)] [Connecting to security.u\r                                                                               \rGet:2 https://cloud.r-project.org/bin/linux/ubuntu bionic-cran40/ InRelease [3,626 B]\n",
            "\r0% [Connecting to archive.ubuntu.com (91.189.88.152)] [Connecting to security.u\r0% [Connecting to archive.ubuntu.com (91.189.88.152)] [Connecting to security.u\r                                                                               \rIgn:3 https://developer.download.nvidia.com/compute/machine-learning/repos/ubuntu1804/x86_64  InRelease\n",
            "\r0% [Connecting to archive.ubuntu.com (91.189.88.152)] [Connecting to security.u\r0% [2 InRelease gpgv 3,626 B] [Connecting to archive.ubuntu.com (91.189.88.152)\r                                                                               \rGet:4 https://developer.download.nvidia.com/compute/cuda/repos/ubuntu1804/x86_64  Release [696 B]\n",
            "\r0% [2 InRelease gpgv 3,626 B] [Connecting to archive.ubuntu.com (91.189.88.152)\r                                                                               \rHit:5 https://developer.download.nvidia.com/compute/machine-learning/repos/ubuntu1804/x86_64  Release\n",
            "\r0% [2 InRelease gpgv 3,626 B] [Connecting to archive.ubuntu.com (91.189.88.152)\r                                                                               \rGet:6 https://developer.download.nvidia.com/compute/cuda/repos/ubuntu1804/x86_64  Release.gpg [836 B]\n",
            "\r0% [2 InRelease gpgv 3,626 B] [Waiting for headers] [Waiting for headers] [Wait\r0% [2 InRelease gpgv 3,626 B] [Waiting for headers] [Waiting for headers] [Wait\r                                                                               \rGet:7 http://ppa.launchpad.net/c2d4u.team/c2d4u4.0+/ubuntu bionic InRelease [15.9 kB]\n",
            "\r0% [2 InRelease gpgv 3,626 B] [Waiting for headers] [Waiting for headers] [7 In\r                                                                               \rGet:8 http://security.ubuntu.com/ubuntu bionic-security InRelease [88.7 kB]\n",
            "Hit:9 http://archive.ubuntu.com/ubuntu bionic InRelease\n",
            "Get:10 http://archive.ubuntu.com/ubuntu bionic-updates InRelease [88.7 kB]\n",
            "Get:12 https://developer.download.nvidia.com/compute/cuda/repos/ubuntu1804/x86_64  Packages [828 kB]\n",
            "Hit:13 http://ppa.launchpad.net/cran/libgit2/ubuntu bionic InRelease\n",
            "Get:14 http://archive.ubuntu.com/ubuntu bionic-backports InRelease [74.6 kB]\n",
            "Hit:15 http://ppa.launchpad.net/deadsnakes/ppa/ubuntu bionic InRelease\n",
            "Hit:16 http://ppa.launchpad.net/graphics-drivers/ppa/ubuntu bionic InRelease\n",
            "Get:17 http://security.ubuntu.com/ubuntu bionic-security/main amd64 Packages [2,430 kB]\n",
            "Get:18 http://ppa.launchpad.net/c2d4u.team/c2d4u4.0+/ubuntu bionic/main Sources [1,812 kB]\n",
            "Get:19 http://archive.ubuntu.com/ubuntu bionic-updates/main amd64 Packages [2,868 kB]\n",
            "Get:20 http://security.ubuntu.com/ubuntu bionic-security/universe amd64 Packages [1,442 kB]\n",
            "Get:21 http://archive.ubuntu.com/ubuntu bionic-updates/universe amd64 Packages [2,224 kB]\n",
            "Get:22 http://ppa.launchpad.net/c2d4u.team/c2d4u4.0+/ubuntu bionic/main amd64 Packages [930 kB]\n",
            "Fetched 12.8 MB in 4s (3,519 kB/s)\n",
            "Reading package lists... Done\n",
            "Reading package lists... Done\n",
            "Building dependency tree       \n",
            "Reading state information... Done\n",
            "The following additional packages will be installed:\n",
            "  libpython3.9-minimal libpython3.9-stdlib python3.9-minimal\n",
            "Suggested packages:\n",
            "  python3.9-venv python3.9-doc binfmt-support\n",
            "The following NEW packages will be installed:\n",
            "  libpython3.9-minimal libpython3.9-stdlib python3.9 python3.9-minimal\n",
            "0 upgraded, 4 newly installed, 0 to remove and 40 not upgraded.\n",
            "Need to get 4,870 kB of archives.\n",
            "After this operation, 19.0 MB of additional disk space will be used.\n",
            "Get:1 http://ppa.launchpad.net/deadsnakes/ppa/ubuntu bionic/main amd64 libpython3.9-minimal amd64 3.9.9-1+bionic2 [789 kB]\n",
            "Get:2 http://ppa.launchpad.net/deadsnakes/ppa/ubuntu bionic/main amd64 python3.9-minimal amd64 3.9.9-1+bionic2 [1,910 kB]\n",
            "Get:3 http://ppa.launchpad.net/deadsnakes/ppa/ubuntu bionic/main amd64 libpython3.9-stdlib amd64 3.9.9-1+bionic2 [1,690 kB]\n",
            "Get:4 http://ppa.launchpad.net/deadsnakes/ppa/ubuntu bionic/main amd64 python3.9 amd64 3.9.9-1+bionic2 [481 kB]\n",
            "Fetched 4,870 kB in 5s (1,048 kB/s)\n",
            "debconf: unable to initialize frontend: Dialog\n",
            "debconf: (No usable dialog-like program is installed, so the dialog based frontend cannot be used. at /usr/share/perl5/Debconf/FrontEnd/Dialog.pm line 76, <> line 4.)\n",
            "debconf: falling back to frontend: Readline\n",
            "debconf: unable to initialize frontend: Readline\n",
            "debconf: (This frontend requires a controlling tty.)\n",
            "debconf: falling back to frontend: Teletype\n",
            "dpkg-preconfigure: unable to re-open stdin: \n",
            "Selecting previously unselected package libpython3.9-minimal:amd64.\n",
            "(Reading database ... 155222 files and directories currently installed.)\n",
            "Preparing to unpack .../libpython3.9-minimal_3.9.9-1+bionic2_amd64.deb ...\n",
            "Unpacking libpython3.9-minimal:amd64 (3.9.9-1+bionic2) ...\n",
            "Selecting previously unselected package python3.9-minimal.\n",
            "Preparing to unpack .../python3.9-minimal_3.9.9-1+bionic2_amd64.deb ...\n",
            "Unpacking python3.9-minimal (3.9.9-1+bionic2) ...\n",
            "Selecting previously unselected package libpython3.9-stdlib:amd64.\n",
            "Preparing to unpack .../libpython3.9-stdlib_3.9.9-1+bionic2_amd64.deb ...\n",
            "Unpacking libpython3.9-stdlib:amd64 (3.9.9-1+bionic2) ...\n",
            "Selecting previously unselected package python3.9.\n",
            "Preparing to unpack .../python3.9_3.9.9-1+bionic2_amd64.deb ...\n",
            "Unpacking python3.9 (3.9.9-1+bionic2) ...\n",
            "Setting up libpython3.9-minimal:amd64 (3.9.9-1+bionic2) ...\n",
            "Setting up libpython3.9-stdlib:amd64 (3.9.9-1+bionic2) ...\n",
            "Setting up python3.9-minimal (3.9.9-1+bionic2) ...\n",
            "Setting up python3.9 (3.9.9-1+bionic2) ...\n",
            "Processing triggers for mime-support (3.60ubuntu1) ...\n",
            "Processing triggers for man-db (2.8.3-2ubuntu0.1) ...\n",
            "update-alternatives: using /usr/bin/python3.9 to provide /usr/bin/python3 (python3) in auto mode\n",
            "Python 3.9.9\n"
          ]
        }
      ]
    },
    {
      "cell_type": "code",
      "metadata": {
        "id": "gucl09P0oY5k"
      },
      "source": [
        "# !sudo apt -y install python3-pip\n",
        "# !sudo apt install python3.9-distutils\n",
        "# !python -m pip install --upgrade pip\n",
        "# !apt install python3.9-venv"
      ],
      "execution_count": null,
      "outputs": []
    },
    {
      "cell_type": "code",
      "metadata": {
        "colab": {
          "resources": {
            "http://localhost:8080/nbextensions/google.colab/files.js": {
              "data": "Ly8gQ29weXJpZ2h0IDIwMTcgR29vZ2xlIExMQwovLwovLyBMaWNlbnNlZCB1bmRlciB0aGUgQXBhY2hlIExpY2Vuc2UsIFZlcnNpb24gMi4wICh0aGUgIkxpY2Vuc2UiKTsKLy8geW91IG1heSBub3QgdXNlIHRoaXMgZmlsZSBleGNlcHQgaW4gY29tcGxpYW5jZSB3aXRoIHRoZSBMaWNlbnNlLgovLyBZb3UgbWF5IG9idGFpbiBhIGNvcHkgb2YgdGhlIExpY2Vuc2UgYXQKLy8KLy8gICAgICBodHRwOi8vd3d3LmFwYWNoZS5vcmcvbGljZW5zZXMvTElDRU5TRS0yLjAKLy8KLy8gVW5sZXNzIHJlcXVpcmVkIGJ5IGFwcGxpY2FibGUgbGF3IG9yIGFncmVlZCB0byBpbiB3cml0aW5nLCBzb2Z0d2FyZQovLyBkaXN0cmlidXRlZCB1bmRlciB0aGUgTGljZW5zZSBpcyBkaXN0cmlidXRlZCBvbiBhbiAiQVMgSVMiIEJBU0lTLAovLyBXSVRIT1VUIFdBUlJBTlRJRVMgT1IgQ09ORElUSU9OUyBPRiBBTlkgS0lORCwgZWl0aGVyIGV4cHJlc3Mgb3IgaW1wbGllZC4KLy8gU2VlIHRoZSBMaWNlbnNlIGZvciB0aGUgc3BlY2lmaWMgbGFuZ3VhZ2UgZ292ZXJuaW5nIHBlcm1pc3Npb25zIGFuZAovLyBsaW1pdGF0aW9ucyB1bmRlciB0aGUgTGljZW5zZS4KCi8qKgogKiBAZmlsZW92ZXJ2aWV3IEhlbHBlcnMgZm9yIGdvb2dsZS5jb2xhYiBQeXRob24gbW9kdWxlLgogKi8KKGZ1bmN0aW9uKHNjb3BlKSB7CmZ1bmN0aW9uIHNwYW4odGV4dCwgc3R5bGVBdHRyaWJ1dGVzID0ge30pIHsKICBjb25zdCBlbGVtZW50ID0gZG9jdW1lbnQuY3JlYXRlRWxlbWVudCgnc3BhbicpOwogIGVsZW1lbnQudGV4dENvbnRlbnQgPSB0ZXh0OwogIGZvciAoY29uc3Qga2V5IG9mIE9iamVjdC5rZXlzKHN0eWxlQXR0cmlidXRlcykpIHsKICAgIGVsZW1lbnQuc3R5bGVba2V5XSA9IHN0eWxlQXR0cmlidXRlc1trZXldOwogIH0KICByZXR1cm4gZWxlbWVudDsKfQoKLy8gTWF4IG51bWJlciBvZiBieXRlcyB3aGljaCB3aWxsIGJlIHVwbG9hZGVkIGF0IGEgdGltZS4KY29uc3QgTUFYX1BBWUxPQURfU0laRSA9IDEwMCAqIDEwMjQ7CgpmdW5jdGlvbiBfdXBsb2FkRmlsZXMoaW5wdXRJZCwgb3V0cHV0SWQpIHsKICBjb25zdCBzdGVwcyA9IHVwbG9hZEZpbGVzU3RlcChpbnB1dElkLCBvdXRwdXRJZCk7CiAgY29uc3Qgb3V0cHV0RWxlbWVudCA9IGRvY3VtZW50LmdldEVsZW1lbnRCeUlkKG91dHB1dElkKTsKICAvLyBDYWNoZSBzdGVwcyBvbiB0aGUgb3V0cHV0RWxlbWVudCB0byBtYWtlIGl0IGF2YWlsYWJsZSBmb3IgdGhlIG5leHQgY2FsbAogIC8vIHRvIHVwbG9hZEZpbGVzQ29udGludWUgZnJvbSBQeXRob24uCiAgb3V0cHV0RWxlbWVudC5zdGVwcyA9IHN0ZXBzOwoKICByZXR1cm4gX3VwbG9hZEZpbGVzQ29udGludWUob3V0cHV0SWQpOwp9CgovLyBUaGlzIGlzIHJvdWdobHkgYW4gYXN5bmMgZ2VuZXJhdG9yIChub3Qgc3VwcG9ydGVkIGluIHRoZSBicm93c2VyIHlldCksCi8vIHdoZXJlIHRoZXJlIGFyZSBtdWx0aXBsZSBhc3luY2hyb25vdXMgc3RlcHMgYW5kIHRoZSBQeXRob24gc2lkZSBpcyBnb2luZwovLyB0byBwb2xsIGZvciBjb21wbGV0aW9uIG9mIGVhY2ggc3RlcC4KLy8gVGhpcyB1c2VzIGEgUHJvbWlzZSB0byBibG9jayB0aGUgcHl0aG9uIHNpZGUgb24gY29tcGxldGlvbiBvZiBlYWNoIHN0ZXAsCi8vIHRoZW4gcGFzc2VzIHRoZSByZXN1bHQgb2YgdGhlIHByZXZpb3VzIHN0ZXAgYXMgdGhlIGlucHV0IHRvIHRoZSBuZXh0IHN0ZXAuCmZ1bmN0aW9uIF91cGxvYWRGaWxlc0NvbnRpbnVlKG91dHB1dElkKSB7CiAgY29uc3Qgb3V0cHV0RWxlbWVudCA9IGRvY3VtZW50LmdldEVsZW1lbnRCeUlkKG91dHB1dElkKTsKICBjb25zdCBzdGVwcyA9IG91dHB1dEVsZW1lbnQuc3RlcHM7CgogIGNvbnN0IG5leHQgPSBzdGVwcy5uZXh0KG91dHB1dEVsZW1lbnQubGFzdFByb21pc2VWYWx1ZSk7CiAgcmV0dXJuIFByb21pc2UucmVzb2x2ZShuZXh0LnZhbHVlLnByb21pc2UpLnRoZW4oKHZhbHVlKSA9PiB7CiAgICAvLyBDYWNoZSB0aGUgbGFzdCBwcm9taXNlIHZhbHVlIHRvIG1ha2UgaXQgYXZhaWxhYmxlIHRvIHRoZSBuZXh0CiAgICAvLyBzdGVwIG9mIHRoZSBnZW5lcmF0b3IuCiAgICBvdXRwdXRFbGVtZW50Lmxhc3RQcm9taXNlVmFsdWUgPSB2YWx1ZTsKICAgIHJldHVybiBuZXh0LnZhbHVlLnJlc3BvbnNlOwogIH0pOwp9CgovKioKICogR2VuZXJhdG9yIGZ1bmN0aW9uIHdoaWNoIGlzIGNhbGxlZCBiZXR3ZWVuIGVhY2ggYXN5bmMgc3RlcCBvZiB0aGUgdXBsb2FkCiAqIHByb2Nlc3MuCiAqIEBwYXJhbSB7c3RyaW5nfSBpbnB1dElkIEVsZW1lbnQgSUQgb2YgdGhlIGlucHV0IGZpbGUgcGlja2VyIGVsZW1lbnQuCiAqIEBwYXJhbSB7c3RyaW5nfSBvdXRwdXRJZCBFbGVtZW50IElEIG9mIHRoZSBvdXRwdXQgZGlzcGxheS4KICogQHJldHVybiB7IUl0ZXJhYmxlPCFPYmplY3Q+fSBJdGVyYWJsZSBvZiBuZXh0IHN0ZXBzLgogKi8KZnVuY3Rpb24qIHVwbG9hZEZpbGVzU3RlcChpbnB1dElkLCBvdXRwdXRJZCkgewogIGNvbnN0IGlucHV0RWxlbWVudCA9IGRvY3VtZW50LmdldEVsZW1lbnRCeUlkKGlucHV0SWQpOwogIGlucHV0RWxlbWVudC5kaXNhYmxlZCA9IGZhbHNlOwoKICBjb25zdCBvdXRwdXRFbGVtZW50ID0gZG9jdW1lbnQuZ2V0RWxlbWVudEJ5SWQob3V0cHV0SWQpOwogIG91dHB1dEVsZW1lbnQuaW5uZXJIVE1MID0gJyc7CgogIGNvbnN0IHBpY2tlZFByb21pc2UgPSBuZXcgUHJvbWlzZSgocmVzb2x2ZSkgPT4gewogICAgaW5wdXRFbGVtZW50LmFkZEV2ZW50TGlzdGVuZXIoJ2NoYW5nZScsIChlKSA9PiB7CiAgICAgIHJlc29sdmUoZS50YXJnZXQuZmlsZXMpOwogICAgfSk7CiAgfSk7CgogIGNvbnN0IGNhbmNlbCA9IGRvY3VtZW50LmNyZWF0ZUVsZW1lbnQoJ2J1dHRvbicpOwogIGlucHV0RWxlbWVudC5wYXJlbnRFbGVtZW50LmFwcGVuZENoaWxkKGNhbmNlbCk7CiAgY2FuY2VsLnRleHRDb250ZW50ID0gJ0NhbmNlbCB1cGxvYWQnOwogIGNvbnN0IGNhbmNlbFByb21pc2UgPSBuZXcgUHJvbWlzZSgocmVzb2x2ZSkgPT4gewogICAgY2FuY2VsLm9uY2xpY2sgPSAoKSA9PiB7CiAgICAgIHJlc29sdmUobnVsbCk7CiAgICB9OwogIH0pOwoKICAvLyBXYWl0IGZvciB0aGUgdXNlciB0byBwaWNrIHRoZSBmaWxlcy4KICBjb25zdCBmaWxlcyA9IHlpZWxkIHsKICAgIHByb21pc2U6IFByb21pc2UucmFjZShbcGlja2VkUHJvbWlzZSwgY2FuY2VsUHJvbWlzZV0pLAogICAgcmVzcG9uc2U6IHsKICAgICAgYWN0aW9uOiAnc3RhcnRpbmcnLAogICAgfQogIH07CgogIGNhbmNlbC5yZW1vdmUoKTsKCiAgLy8gRGlzYWJsZSB0aGUgaW5wdXQgZWxlbWVudCBzaW5jZSBmdXJ0aGVyIHBpY2tzIGFyZSBub3QgYWxsb3dlZC4KICBpbnB1dEVsZW1lbnQuZGlzYWJsZWQgPSB0cnVlOwoKICBpZiAoIWZpbGVzKSB7CiAgICByZXR1cm4gewogICAgICByZXNwb25zZTogewogICAgICAgIGFjdGlvbjogJ2NvbXBsZXRlJywKICAgICAgfQogICAgfTsKICB9CgogIGZvciAoY29uc3QgZmlsZSBvZiBmaWxlcykgewogICAgY29uc3QgbGkgPSBkb2N1bWVudC5jcmVhdGVFbGVtZW50KCdsaScpOwogICAgbGkuYXBwZW5kKHNwYW4oZmlsZS5uYW1lLCB7Zm9udFdlaWdodDogJ2JvbGQnfSkpOwogICAgbGkuYXBwZW5kKHNwYW4oCiAgICAgICAgYCgke2ZpbGUudHlwZSB8fCAnbi9hJ30pIC0gJHtmaWxlLnNpemV9IGJ5dGVzLCBgICsKICAgICAgICBgbGFzdCBtb2RpZmllZDogJHsKICAgICAgICAgICAgZmlsZS5sYXN0TW9kaWZpZWREYXRlID8gZmlsZS5sYXN0TW9kaWZpZWREYXRlLnRvTG9jYWxlRGF0ZVN0cmluZygpIDoKICAgICAgICAgICAgICAgICAgICAgICAgICAgICAgICAgICAgJ24vYSd9IC0gYCkpOwogICAgY29uc3QgcGVyY2VudCA9IHNwYW4oJzAlIGRvbmUnKTsKICAgIGxpLmFwcGVuZENoaWxkKHBlcmNlbnQpOwoKICAgIG91dHB1dEVsZW1lbnQuYXBwZW5kQ2hpbGQobGkpOwoKICAgIGNvbnN0IGZpbGVEYXRhUHJvbWlzZSA9IG5ldyBQcm9taXNlKChyZXNvbHZlKSA9PiB7CiAgICAgIGNvbnN0IHJlYWRlciA9IG5ldyBGaWxlUmVhZGVyKCk7CiAgICAgIHJlYWRlci5vbmxvYWQgPSAoZSkgPT4gewogICAgICAgIHJlc29sdmUoZS50YXJnZXQucmVzdWx0KTsKICAgICAgfTsKICAgICAgcmVhZGVyLnJlYWRBc0FycmF5QnVmZmVyKGZpbGUpOwogICAgfSk7CiAgICAvLyBXYWl0IGZvciB0aGUgZGF0YSB0byBiZSByZWFkeS4KICAgIGxldCBmaWxlRGF0YSA9IHlpZWxkIHsKICAgICAgcHJvbWlzZTogZmlsZURhdGFQcm9taXNlLAogICAgICByZXNwb25zZTogewogICAgICAgIGFjdGlvbjogJ2NvbnRpbnVlJywKICAgICAgfQogICAgfTsKCiAgICAvLyBVc2UgYSBjaHVua2VkIHNlbmRpbmcgdG8gYXZvaWQgbWVzc2FnZSBzaXplIGxpbWl0cy4gU2VlIGIvNjIxMTU2NjAuCiAgICBsZXQgcG9zaXRpb24gPSAwOwogICAgZG8gewogICAgICBjb25zdCBsZW5ndGggPSBNYXRoLm1pbihmaWxlRGF0YS5ieXRlTGVuZ3RoIC0gcG9zaXRpb24sIE1BWF9QQVlMT0FEX1NJWkUpOwogICAgICBjb25zdCBjaHVuayA9IG5ldyBVaW50OEFycmF5KGZpbGVEYXRhLCBwb3NpdGlvbiwgbGVuZ3RoKTsKICAgICAgcG9zaXRpb24gKz0gbGVuZ3RoOwoKICAgICAgY29uc3QgYmFzZTY0ID0gYnRvYShTdHJpbmcuZnJvbUNoYXJDb2RlLmFwcGx5KG51bGwsIGNodW5rKSk7CiAgICAgIHlpZWxkIHsKICAgICAgICByZXNwb25zZTogewogICAgICAgICAgYWN0aW9uOiAnYXBwZW5kJywKICAgICAgICAgIGZpbGU6IGZpbGUubmFtZSwKICAgICAgICAgIGRhdGE6IGJhc2U2NCwKICAgICAgICB9LAogICAgICB9OwoKICAgICAgbGV0IHBlcmNlbnREb25lID0gZmlsZURhdGEuYnl0ZUxlbmd0aCA9PT0gMCA/CiAgICAgICAgICAxMDAgOgogICAgICAgICAgTWF0aC5yb3VuZCgocG9zaXRpb24gLyBmaWxlRGF0YS5ieXRlTGVuZ3RoKSAqIDEwMCk7CiAgICAgIHBlcmNlbnQudGV4dENvbnRlbnQgPSBgJHtwZXJjZW50RG9uZX0lIGRvbmVgOwoKICAgIH0gd2hpbGUgKHBvc2l0aW9uIDwgZmlsZURhdGEuYnl0ZUxlbmd0aCk7CiAgfQoKICAvLyBBbGwgZG9uZS4KICB5aWVsZCB7CiAgICByZXNwb25zZTogewogICAgICBhY3Rpb246ICdjb21wbGV0ZScsCiAgICB9CiAgfTsKfQoKc2NvcGUuZ29vZ2xlID0gc2NvcGUuZ29vZ2xlIHx8IHt9OwpzY29wZS5nb29nbGUuY29sYWIgPSBzY29wZS5nb29nbGUuY29sYWIgfHwge307CnNjb3BlLmdvb2dsZS5jb2xhYi5fZmlsZXMgPSB7CiAgX3VwbG9hZEZpbGVzLAogIF91cGxvYWRGaWxlc0NvbnRpbnVlLAp9Owp9KShzZWxmKTsK",
              "ok": true,
              "headers": [
                [
                  "content-type",
                  "application/javascript"
                ]
              ],
              "status": 200,
              "status_text": ""
            }
          },
          "base_uri": "https://localhost:8080/",
          "height": 107
        },
        "id": "9VBFGiLB1cWP",
        "outputId": "e4a6f9d9-ba0b-4bda-88db-95a1c68d37a5"
      },
      "source": [
        "from google.colab import files\n",
        "uploaded = files.upload()"
      ],
      "execution_count": null,
      "outputs": [
        {
          "output_type": "display_data",
          "data": {
            "text/html": [
              "\n",
              "     <input type=\"file\" id=\"files-c636f5c5-6b63-4696-982f-939946799608\" name=\"files[]\" multiple disabled\n",
              "        style=\"border:none\" />\n",
              "     <output id=\"result-c636f5c5-6b63-4696-982f-939946799608\">\n",
              "      Upload widget is only available when the cell has been executed in the\n",
              "      current browser session. Please rerun this cell to enable.\n",
              "      </output>\n",
              "      <script src=\"/nbextensions/google.colab/files.js\"></script> "
            ],
            "text/plain": [
              "<IPython.core.display.HTML object>"
            ]
          },
          "metadata": {}
        },
        {
          "output_type": "stream",
          "name": "stdout",
          "text": [
            "Saving hw_abt_2_byuser.csv to hw_abt_2_byuser.csv\n",
            "Saving hw_abt_2_bybucket.csv to hw_abt_2_bybucket.csv\n"
          ]
        }
      ]
    },
    {
      "cell_type": "code",
      "metadata": {
        "collapsed": true,
        "id": "VCRHgLxWYJ5C"
      },
      "source": [
        "import numpy as np\n",
        "import pandas as pd\n",
        "import matplotlib.pyplot as plt\n",
        "import seaborn as sns\n",
        "\n",
        "from scipy.stats import norm, kstest, shapiro\n",
        "from scipy.stats import ttest_ind, mannwhitneyu"
      ],
      "execution_count": null,
      "outputs": []
    },
    {
      "cell_type": "code",
      "metadata": {
        "colab": {
          "base_uri": "https://localhost:8080/",
          "height": 35
        },
        "id": "DbJwMh4CrzXu",
        "outputId": "657ac187-3a73-4eba-c683-aeb636ac5ad4"
      },
      "source": [
        "import scipy\n",
        "scipy.__version__"
      ],
      "execution_count": null,
      "outputs": [
        {
          "output_type": "execute_result",
          "data": {
            "application/vnd.google.colaboratory.intrinsic+json": {
              "type": "string"
            },
            "text/plain": [
              "'1.4.1'"
            ]
          },
          "metadata": {},
          "execution_count": 6
        }
      ]
    },
    {
      "cell_type": "code",
      "metadata": {
        "pycharm": {
          "name": "#%%\n"
        },
        "id": "8fLoBG7SYJ5G"
      },
      "source": [
        "data_bucket = pd.read_csv('hw_abt_2_bybucket.csv', sep='\\t')\n",
        "data_user = pd.read_csv('hw_abt_2_byuser.csv', sep='\\t')"
      ],
      "execution_count": null,
      "outputs": []
    },
    {
      "cell_type": "markdown",
      "metadata": {
        "collapsed": false,
        "pycharm": {
          "name": "#%% md\n"
        },
        "id": "K7U1uAo9YJ5H"
      },
      "source": [
        "###### Посмотрим на данные\n",
        "   * metric_value – сумма целевых действий пользователей в рамках bucket’а – например, просмотров рекламного баннера, телефона на сайте classified-сервиса или покупок в retail/FMCG;\n",
        "* users – кол-во пользователей, совершивших целевое действие,\n",
        "* visits – кол-во целевых сессий,\n",
        "* churn_users и churn_visits – кол-во пользователей в рамках bucket’а, отказавшихся сделать заказ, и сессий, не закончившихся успешным целевым действием"
      ]
    },
    {
      "cell_type": "code",
      "metadata": {
        "pycharm": {
          "name": "#%%\n"
        },
        "colab": {
          "base_uri": "https://localhost:8080/",
          "height": 206
        },
        "id": "k-8_hEusYJ5K",
        "outputId": "d9a8ebbc-a26d-48e6-c6b2-a84ab9387d5f"
      },
      "source": [
        "data_user.head()"
      ],
      "execution_count": null,
      "outputs": [
        {
          "output_type": "execute_result",
          "data": {
            "text/html": [
              "<div>\n",
              "<style scoped>\n",
              "    .dataframe tbody tr th:only-of-type {\n",
              "        vertical-align: middle;\n",
              "    }\n",
              "\n",
              "    .dataframe tbody tr th {\n",
              "        vertical-align: top;\n",
              "    }\n",
              "\n",
              "    .dataframe thead th {\n",
              "        text-align: right;\n",
              "    }\n",
              "</style>\n",
              "<table border=\"1\" class=\"dataframe\">\n",
              "  <thead>\n",
              "    <tr style=\"text-align: right;\">\n",
              "      <th></th>\n",
              "      <th>Unnamed: 0</th>\n",
              "      <th>group_id</th>\n",
              "      <th>metric_value</th>\n",
              "      <th>users</th>\n",
              "      <th>visits</th>\n",
              "      <th>churn_users</th>\n",
              "      <th>churn_visits</th>\n",
              "      <th>group</th>\n",
              "    </tr>\n",
              "  </thead>\n",
              "  <tbody>\n",
              "    <tr>\n",
              "      <th>0</th>\n",
              "      <td>0</td>\n",
              "      <td>8</td>\n",
              "      <td>6630.000</td>\n",
              "      <td>0</td>\n",
              "      <td>0</td>\n",
              "      <td>0</td>\n",
              "      <td>8</td>\n",
              "      <td>A</td>\n",
              "    </tr>\n",
              "    <tr>\n",
              "      <th>1</th>\n",
              "      <td>1</td>\n",
              "      <td>13</td>\n",
              "      <td>6933.976</td>\n",
              "      <td>0</td>\n",
              "      <td>0</td>\n",
              "      <td>1</td>\n",
              "      <td>6</td>\n",
              "      <td>B</td>\n",
              "    </tr>\n",
              "    <tr>\n",
              "      <th>2</th>\n",
              "      <td>2</td>\n",
              "      <td>10</td>\n",
              "      <td>8261.976</td>\n",
              "      <td>1</td>\n",
              "      <td>10</td>\n",
              "      <td>1</td>\n",
              "      <td>8</td>\n",
              "      <td>B</td>\n",
              "    </tr>\n",
              "    <tr>\n",
              "      <th>3</th>\n",
              "      <td>3</td>\n",
              "      <td>4</td>\n",
              "      <td>5522.000</td>\n",
              "      <td>1</td>\n",
              "      <td>9</td>\n",
              "      <td>1</td>\n",
              "      <td>7</td>\n",
              "      <td>A</td>\n",
              "    </tr>\n",
              "    <tr>\n",
              "      <th>4</th>\n",
              "      <td>4</td>\n",
              "      <td>16</td>\n",
              "      <td>5075.976</td>\n",
              "      <td>1</td>\n",
              "      <td>6</td>\n",
              "      <td>0</td>\n",
              "      <td>8</td>\n",
              "      <td>B</td>\n",
              "    </tr>\n",
              "  </tbody>\n",
              "</table>\n",
              "</div>"
            ],
            "text/plain": [
              "   Unnamed: 0  group_id  metric_value  ...  churn_users  churn_visits  group\n",
              "0           0         8      6630.000  ...            0             8      A\n",
              "1           1        13      6933.976  ...            1             6      B\n",
              "2           2        10      8261.976  ...            1             8      B\n",
              "3           3         4      5522.000  ...            1             7      A\n",
              "4           4        16      5075.976  ...            0             8      B\n",
              "\n",
              "[5 rows x 8 columns]"
            ]
          },
          "metadata": {},
          "execution_count": 8
        }
      ]
    },
    {
      "cell_type": "code",
      "metadata": {
        "pycharm": {
          "name": "#%%\n"
        },
        "colab": {
          "base_uri": "https://localhost:8080/"
        },
        "id": "CMTGGto0YJ5L",
        "outputId": "e880d093-f2a9-4850-df6b-d2d37e283e22"
      },
      "source": [
        "print('unique users:', data_user['Unnamed: 0'].unique().shape[0])"
      ],
      "execution_count": null,
      "outputs": [
        {
          "output_type": "stream",
          "name": "stdout",
          "text": [
            "unique users: 5000\n"
          ]
        }
      ]
    },
    {
      "cell_type": "code",
      "metadata": {
        "pycharm": {
          "name": "#%%\n"
        },
        "colab": {
          "base_uri": "https://localhost:8080/",
          "height": 195
        },
        "id": "uP85RVOZYJ5M",
        "outputId": "f114b243-8817-4e6e-9bbf-8e7051d167e7"
      },
      "source": [
        "data_user.groupby('group').describe()"
      ],
      "execution_count": null,
      "outputs": [
        {
          "output_type": "execute_result",
          "data": {
            "text/html": [
              "<div>\n",
              "<style scoped>\n",
              "    .dataframe tbody tr th:only-of-type {\n",
              "        vertical-align: middle;\n",
              "    }\n",
              "\n",
              "    .dataframe tbody tr th {\n",
              "        vertical-align: top;\n",
              "    }\n",
              "\n",
              "    .dataframe thead tr th {\n",
              "        text-align: left;\n",
              "    }\n",
              "\n",
              "    .dataframe thead tr:last-of-type th {\n",
              "        text-align: right;\n",
              "    }\n",
              "</style>\n",
              "<table border=\"1\" class=\"dataframe\">\n",
              "  <thead>\n",
              "    <tr>\n",
              "      <th></th>\n",
              "      <th colspan=\"8\" halign=\"left\">Unnamed: 0</th>\n",
              "      <th colspan=\"8\" halign=\"left\">group_id</th>\n",
              "      <th colspan=\"8\" halign=\"left\">metric_value</th>\n",
              "      <th colspan=\"8\" halign=\"left\">users</th>\n",
              "      <th colspan=\"8\" halign=\"left\">visits</th>\n",
              "      <th colspan=\"8\" halign=\"left\">churn_users</th>\n",
              "      <th colspan=\"8\" halign=\"left\">churn_visits</th>\n",
              "    </tr>\n",
              "    <tr>\n",
              "      <th></th>\n",
              "      <th>count</th>\n",
              "      <th>mean</th>\n",
              "      <th>std</th>\n",
              "      <th>min</th>\n",
              "      <th>25%</th>\n",
              "      <th>50%</th>\n",
              "      <th>75%</th>\n",
              "      <th>max</th>\n",
              "      <th>count</th>\n",
              "      <th>mean</th>\n",
              "      <th>std</th>\n",
              "      <th>min</th>\n",
              "      <th>25%</th>\n",
              "      <th>50%</th>\n",
              "      <th>75%</th>\n",
              "      <th>max</th>\n",
              "      <th>count</th>\n",
              "      <th>mean</th>\n",
              "      <th>std</th>\n",
              "      <th>min</th>\n",
              "      <th>25%</th>\n",
              "      <th>50%</th>\n",
              "      <th>75%</th>\n",
              "      <th>max</th>\n",
              "      <th>count</th>\n",
              "      <th>mean</th>\n",
              "      <th>std</th>\n",
              "      <th>min</th>\n",
              "      <th>25%</th>\n",
              "      <th>50%</th>\n",
              "      <th>75%</th>\n",
              "      <th>max</th>\n",
              "      <th>count</th>\n",
              "      <th>mean</th>\n",
              "      <th>std</th>\n",
              "      <th>min</th>\n",
              "      <th>25%</th>\n",
              "      <th>50%</th>\n",
              "      <th>75%</th>\n",
              "      <th>max</th>\n",
              "      <th>count</th>\n",
              "      <th>mean</th>\n",
              "      <th>std</th>\n",
              "      <th>min</th>\n",
              "      <th>25%</th>\n",
              "      <th>50%</th>\n",
              "      <th>75%</th>\n",
              "      <th>max</th>\n",
              "      <th>count</th>\n",
              "      <th>mean</th>\n",
              "      <th>std</th>\n",
              "      <th>min</th>\n",
              "      <th>25%</th>\n",
              "      <th>50%</th>\n",
              "      <th>75%</th>\n",
              "      <th>max</th>\n",
              "    </tr>\n",
              "    <tr>\n",
              "      <th>group</th>\n",
              "      <th></th>\n",
              "      <th></th>\n",
              "      <th></th>\n",
              "      <th></th>\n",
              "      <th></th>\n",
              "      <th></th>\n",
              "      <th></th>\n",
              "      <th></th>\n",
              "      <th></th>\n",
              "      <th></th>\n",
              "      <th></th>\n",
              "      <th></th>\n",
              "      <th></th>\n",
              "      <th></th>\n",
              "      <th></th>\n",
              "      <th></th>\n",
              "      <th></th>\n",
              "      <th></th>\n",
              "      <th></th>\n",
              "      <th></th>\n",
              "      <th></th>\n",
              "      <th></th>\n",
              "      <th></th>\n",
              "      <th></th>\n",
              "      <th></th>\n",
              "      <th></th>\n",
              "      <th></th>\n",
              "      <th></th>\n",
              "      <th></th>\n",
              "      <th></th>\n",
              "      <th></th>\n",
              "      <th></th>\n",
              "      <th></th>\n",
              "      <th></th>\n",
              "      <th></th>\n",
              "      <th></th>\n",
              "      <th></th>\n",
              "      <th></th>\n",
              "      <th></th>\n",
              "      <th></th>\n",
              "      <th></th>\n",
              "      <th></th>\n",
              "      <th></th>\n",
              "      <th></th>\n",
              "      <th></th>\n",
              "      <th></th>\n",
              "      <th></th>\n",
              "      <th></th>\n",
              "      <th></th>\n",
              "      <th></th>\n",
              "      <th></th>\n",
              "      <th></th>\n",
              "      <th></th>\n",
              "      <th></th>\n",
              "      <th></th>\n",
              "      <th></th>\n",
              "    </tr>\n",
              "  </thead>\n",
              "  <tbody>\n",
              "    <tr>\n",
              "      <th>A</th>\n",
              "      <td>2451.0</td>\n",
              "      <td>2513.987760</td>\n",
              "      <td>1442.223383</td>\n",
              "      <td>0.0</td>\n",
              "      <td>1260.5</td>\n",
              "      <td>2513.0</td>\n",
              "      <td>3754.5</td>\n",
              "      <td>4999.0</td>\n",
              "      <td>2451.0</td>\n",
              "      <td>4.552836</td>\n",
              "      <td>2.304557</td>\n",
              "      <td>1.0</td>\n",
              "      <td>3.0</td>\n",
              "      <td>5.0</td>\n",
              "      <td>7.0</td>\n",
              "      <td>8.0</td>\n",
              "      <td>2451.0</td>\n",
              "      <td>6013.356589</td>\n",
              "      <td>1706.147953</td>\n",
              "      <td>1343.000</td>\n",
              "      <td>4744.000</td>\n",
              "      <td>6035.000</td>\n",
              "      <td>7303.500</td>\n",
              "      <td>10862.000</td>\n",
              "      <td>2451.0</td>\n",
              "      <td>0.488372</td>\n",
              "      <td>0.499967</td>\n",
              "      <td>0.0</td>\n",
              "      <td>0.0</td>\n",
              "      <td>0.0</td>\n",
              "      <td>1.0</td>\n",
              "      <td>1.0</td>\n",
              "      <td>2451.0</td>\n",
              "      <td>4.839657</td>\n",
              "      <td>8.789929</td>\n",
              "      <td>0.0</td>\n",
              "      <td>0.0</td>\n",
              "      <td>0.0</td>\n",
              "      <td>6.0</td>\n",
              "      <td>66.0</td>\n",
              "      <td>2451.0</td>\n",
              "      <td>0.503468</td>\n",
              "      <td>0.500090</td>\n",
              "      <td>0.0</td>\n",
              "      <td>0.0</td>\n",
              "      <td>1.0</td>\n",
              "      <td>1.0</td>\n",
              "      <td>1.0</td>\n",
              "      <td>2451.0</td>\n",
              "      <td>6.929417</td>\n",
              "      <td>1.944200</td>\n",
              "      <td>0.0</td>\n",
              "      <td>6.0</td>\n",
              "      <td>7.0</td>\n",
              "      <td>9.0</td>\n",
              "      <td>9.0</td>\n",
              "    </tr>\n",
              "    <tr>\n",
              "      <th>B</th>\n",
              "      <td>2549.0</td>\n",
              "      <td>2485.569243</td>\n",
              "      <td>1444.911607</td>\n",
              "      <td>1.0</td>\n",
              "      <td>1242.0</td>\n",
              "      <td>2486.0</td>\n",
              "      <td>3743.0</td>\n",
              "      <td>4998.0</td>\n",
              "      <td>2549.0</td>\n",
              "      <td>12.488035</td>\n",
              "      <td>2.291621</td>\n",
              "      <td>9.0</td>\n",
              "      <td>10.0</td>\n",
              "      <td>12.0</td>\n",
              "      <td>14.0</td>\n",
              "      <td>16.0</td>\n",
              "      <td>2549.0</td>\n",
              "      <td>6446.181179</td>\n",
              "      <td>1715.107559</td>\n",
              "      <td>1616.976</td>\n",
              "      <td>5167.976</td>\n",
              "      <td>6454.976</td>\n",
              "      <td>7765.976</td>\n",
              "      <td>10784.976</td>\n",
              "      <td>2549.0</td>\n",
              "      <td>0.495096</td>\n",
              "      <td>0.500074</td>\n",
              "      <td>0.0</td>\n",
              "      <td>0.0</td>\n",
              "      <td>0.0</td>\n",
              "      <td>1.0</td>\n",
              "      <td>1.0</td>\n",
              "      <td>2549.0</td>\n",
              "      <td>4.553943</td>\n",
              "      <td>8.147190</td>\n",
              "      <td>0.0</td>\n",
              "      <td>0.0</td>\n",
              "      <td>0.0</td>\n",
              "      <td>6.0</td>\n",
              "      <td>70.0</td>\n",
              "      <td>2549.0</td>\n",
              "      <td>0.786191</td>\n",
              "      <td>0.410074</td>\n",
              "      <td>0.0</td>\n",
              "      <td>1.0</td>\n",
              "      <td>1.0</td>\n",
              "      <td>1.0</td>\n",
              "      <td>1.0</td>\n",
              "      <td>2549.0</td>\n",
              "      <td>6.980384</td>\n",
              "      <td>1.930404</td>\n",
              "      <td>0.0</td>\n",
              "      <td>6.0</td>\n",
              "      <td>7.0</td>\n",
              "      <td>9.0</td>\n",
              "      <td>9.0</td>\n",
              "    </tr>\n",
              "  </tbody>\n",
              "</table>\n",
              "</div>"
            ],
            "text/plain": [
              "      Unnamed: 0                                 ... churn_visits               \n",
              "           count         mean          std  min  ...          25%  50%  75%  max\n",
              "group                                            ...                            \n",
              "A         2451.0  2513.987760  1442.223383  0.0  ...          6.0  7.0  9.0  9.0\n",
              "B         2549.0  2485.569243  1444.911607  1.0  ...          6.0  7.0  9.0  9.0\n",
              "\n",
              "[2 rows x 56 columns]"
            ]
          },
          "metadata": {},
          "execution_count": 10
        }
      ]
    },
    {
      "cell_type": "code",
      "metadata": {
        "pycharm": {
          "name": "#%%\n"
        },
        "colab": {
          "base_uri": "https://localhost:8080/",
          "height": 195
        },
        "id": "RvF6amyaYJ5M",
        "outputId": "c88fd613-b39d-43e1-c1e0-33cc6fbd84fe"
      },
      "source": [
        "data_user[(data_user['churn_users'] > 0) & (data_user['users'] == 0)].groupby('group').describe()"
      ],
      "execution_count": null,
      "outputs": [
        {
          "output_type": "execute_result",
          "data": {
            "text/html": [
              "<div>\n",
              "<style scoped>\n",
              "    .dataframe tbody tr th:only-of-type {\n",
              "        vertical-align: middle;\n",
              "    }\n",
              "\n",
              "    .dataframe tbody tr th {\n",
              "        vertical-align: top;\n",
              "    }\n",
              "\n",
              "    .dataframe thead tr th {\n",
              "        text-align: left;\n",
              "    }\n",
              "\n",
              "    .dataframe thead tr:last-of-type th {\n",
              "        text-align: right;\n",
              "    }\n",
              "</style>\n",
              "<table border=\"1\" class=\"dataframe\">\n",
              "  <thead>\n",
              "    <tr>\n",
              "      <th></th>\n",
              "      <th colspan=\"8\" halign=\"left\">Unnamed: 0</th>\n",
              "      <th colspan=\"8\" halign=\"left\">group_id</th>\n",
              "      <th colspan=\"8\" halign=\"left\">metric_value</th>\n",
              "      <th colspan=\"8\" halign=\"left\">users</th>\n",
              "      <th colspan=\"8\" halign=\"left\">visits</th>\n",
              "      <th colspan=\"8\" halign=\"left\">churn_users</th>\n",
              "      <th colspan=\"8\" halign=\"left\">churn_visits</th>\n",
              "    </tr>\n",
              "    <tr>\n",
              "      <th></th>\n",
              "      <th>count</th>\n",
              "      <th>mean</th>\n",
              "      <th>std</th>\n",
              "      <th>min</th>\n",
              "      <th>25%</th>\n",
              "      <th>50%</th>\n",
              "      <th>75%</th>\n",
              "      <th>max</th>\n",
              "      <th>count</th>\n",
              "      <th>mean</th>\n",
              "      <th>std</th>\n",
              "      <th>min</th>\n",
              "      <th>25%</th>\n",
              "      <th>50%</th>\n",
              "      <th>75%</th>\n",
              "      <th>max</th>\n",
              "      <th>count</th>\n",
              "      <th>mean</th>\n",
              "      <th>std</th>\n",
              "      <th>min</th>\n",
              "      <th>25%</th>\n",
              "      <th>50%</th>\n",
              "      <th>75%</th>\n",
              "      <th>max</th>\n",
              "      <th>count</th>\n",
              "      <th>mean</th>\n",
              "      <th>std</th>\n",
              "      <th>min</th>\n",
              "      <th>25%</th>\n",
              "      <th>50%</th>\n",
              "      <th>75%</th>\n",
              "      <th>max</th>\n",
              "      <th>count</th>\n",
              "      <th>mean</th>\n",
              "      <th>std</th>\n",
              "      <th>min</th>\n",
              "      <th>25%</th>\n",
              "      <th>50%</th>\n",
              "      <th>75%</th>\n",
              "      <th>max</th>\n",
              "      <th>count</th>\n",
              "      <th>mean</th>\n",
              "      <th>std</th>\n",
              "      <th>min</th>\n",
              "      <th>25%</th>\n",
              "      <th>50%</th>\n",
              "      <th>75%</th>\n",
              "      <th>max</th>\n",
              "      <th>count</th>\n",
              "      <th>mean</th>\n",
              "      <th>std</th>\n",
              "      <th>min</th>\n",
              "      <th>25%</th>\n",
              "      <th>50%</th>\n",
              "      <th>75%</th>\n",
              "      <th>max</th>\n",
              "    </tr>\n",
              "    <tr>\n",
              "      <th>group</th>\n",
              "      <th></th>\n",
              "      <th></th>\n",
              "      <th></th>\n",
              "      <th></th>\n",
              "      <th></th>\n",
              "      <th></th>\n",
              "      <th></th>\n",
              "      <th></th>\n",
              "      <th></th>\n",
              "      <th></th>\n",
              "      <th></th>\n",
              "      <th></th>\n",
              "      <th></th>\n",
              "      <th></th>\n",
              "      <th></th>\n",
              "      <th></th>\n",
              "      <th></th>\n",
              "      <th></th>\n",
              "      <th></th>\n",
              "      <th></th>\n",
              "      <th></th>\n",
              "      <th></th>\n",
              "      <th></th>\n",
              "      <th></th>\n",
              "      <th></th>\n",
              "      <th></th>\n",
              "      <th></th>\n",
              "      <th></th>\n",
              "      <th></th>\n",
              "      <th></th>\n",
              "      <th></th>\n",
              "      <th></th>\n",
              "      <th></th>\n",
              "      <th></th>\n",
              "      <th></th>\n",
              "      <th></th>\n",
              "      <th></th>\n",
              "      <th></th>\n",
              "      <th></th>\n",
              "      <th></th>\n",
              "      <th></th>\n",
              "      <th></th>\n",
              "      <th></th>\n",
              "      <th></th>\n",
              "      <th></th>\n",
              "      <th></th>\n",
              "      <th></th>\n",
              "      <th></th>\n",
              "      <th></th>\n",
              "      <th></th>\n",
              "      <th></th>\n",
              "      <th></th>\n",
              "      <th></th>\n",
              "      <th></th>\n",
              "      <th></th>\n",
              "      <th></th>\n",
              "    </tr>\n",
              "  </thead>\n",
              "  <tbody>\n",
              "    <tr>\n",
              "      <th>A</th>\n",
              "      <td>621.0</td>\n",
              "      <td>2427.072464</td>\n",
              "      <td>1508.628688</td>\n",
              "      <td>13.0</td>\n",
              "      <td>1019.00</td>\n",
              "      <td>2383.0</td>\n",
              "      <td>3745.00</td>\n",
              "      <td>4999.0</td>\n",
              "      <td>621.0</td>\n",
              "      <td>4.478261</td>\n",
              "      <td>2.247923</td>\n",
              "      <td>1.0</td>\n",
              "      <td>3.0</td>\n",
              "      <td>4.0</td>\n",
              "      <td>6.0</td>\n",
              "      <td>8.0</td>\n",
              "      <td>621.0</td>\n",
              "      <td>6028.362319</td>\n",
              "      <td>1717.551766</td>\n",
              "      <td>1508.000</td>\n",
              "      <td>4740.000</td>\n",
              "      <td>6077.000</td>\n",
              "      <td>7303.000</td>\n",
              "      <td>10403.000</td>\n",
              "      <td>621.0</td>\n",
              "      <td>0.0</td>\n",
              "      <td>0.0</td>\n",
              "      <td>0.0</td>\n",
              "      <td>0.0</td>\n",
              "      <td>0.0</td>\n",
              "      <td>0.0</td>\n",
              "      <td>0.0</td>\n",
              "      <td>621.0</td>\n",
              "      <td>0.0</td>\n",
              "      <td>0.0</td>\n",
              "      <td>0.0</td>\n",
              "      <td>0.0</td>\n",
              "      <td>0.0</td>\n",
              "      <td>0.0</td>\n",
              "      <td>0.0</td>\n",
              "      <td>621.0</td>\n",
              "      <td>1.0</td>\n",
              "      <td>0.0</td>\n",
              "      <td>1.0</td>\n",
              "      <td>1.0</td>\n",
              "      <td>1.0</td>\n",
              "      <td>1.0</td>\n",
              "      <td>1.0</td>\n",
              "      <td>621.0</td>\n",
              "      <td>6.961353</td>\n",
              "      <td>1.872153</td>\n",
              "      <td>1.0</td>\n",
              "      <td>6.0</td>\n",
              "      <td>7.0</td>\n",
              "      <td>9.0</td>\n",
              "      <td>9.0</td>\n",
              "    </tr>\n",
              "    <tr>\n",
              "      <th>B</th>\n",
              "      <td>1026.0</td>\n",
              "      <td>2591.862573</td>\n",
              "      <td>1436.581671</td>\n",
              "      <td>1.0</td>\n",
              "      <td>1346.25</td>\n",
              "      <td>2646.5</td>\n",
              "      <td>3843.75</td>\n",
              "      <td>4998.0</td>\n",
              "      <td>1026.0</td>\n",
              "      <td>12.520468</td>\n",
              "      <td>2.298264</td>\n",
              "      <td>9.0</td>\n",
              "      <td>10.0</td>\n",
              "      <td>13.0</td>\n",
              "      <td>14.0</td>\n",
              "      <td>16.0</td>\n",
              "      <td>1026.0</td>\n",
              "      <td>6437.031556</td>\n",
              "      <td>1708.677669</td>\n",
              "      <td>1957.976</td>\n",
              "      <td>5136.476</td>\n",
              "      <td>6465.976</td>\n",
              "      <td>7740.726</td>\n",
              "      <td>10784.976</td>\n",
              "      <td>1026.0</td>\n",
              "      <td>0.0</td>\n",
              "      <td>0.0</td>\n",
              "      <td>0.0</td>\n",
              "      <td>0.0</td>\n",
              "      <td>0.0</td>\n",
              "      <td>0.0</td>\n",
              "      <td>0.0</td>\n",
              "      <td>1026.0</td>\n",
              "      <td>0.0</td>\n",
              "      <td>0.0</td>\n",
              "      <td>0.0</td>\n",
              "      <td>0.0</td>\n",
              "      <td>0.0</td>\n",
              "      <td>0.0</td>\n",
              "      <td>0.0</td>\n",
              "      <td>1026.0</td>\n",
              "      <td>1.0</td>\n",
              "      <td>0.0</td>\n",
              "      <td>1.0</td>\n",
              "      <td>1.0</td>\n",
              "      <td>1.0</td>\n",
              "      <td>1.0</td>\n",
              "      <td>1.0</td>\n",
              "      <td>1026.0</td>\n",
              "      <td>6.905458</td>\n",
              "      <td>1.996052</td>\n",
              "      <td>0.0</td>\n",
              "      <td>6.0</td>\n",
              "      <td>7.0</td>\n",
              "      <td>9.0</td>\n",
              "      <td>9.0</td>\n",
              "    </tr>\n",
              "  </tbody>\n",
              "</table>\n",
              "</div>"
            ],
            "text/plain": [
              "      Unnamed: 0                                  ... churn_visits               \n",
              "           count         mean          std   min  ...          25%  50%  75%  max\n",
              "group                                             ...                            \n",
              "A          621.0  2427.072464  1508.628688  13.0  ...          6.0  7.0  9.0  9.0\n",
              "B         1026.0  2591.862573  1436.581671   1.0  ...          6.0  7.0  9.0  9.0\n",
              "\n",
              "[2 rows x 56 columns]"
            ]
          },
          "metadata": {},
          "execution_count": 11
        }
      ]
    },
    {
      "cell_type": "markdown",
      "metadata": {
        "collapsed": false,
        "pycharm": {
          "name": "#%% md\n"
        },
        "id": "mY05z5v4YJ5N"
      },
      "source": [
        "#### 1. visits = 0, users = 0, но metric_value > 0\n",
        "Возможно:\n",
        " * 1. совершил ц.д. во время эксперимента и metric_value зафиксировалось, но запись в user и visits произошла после эксперимента.\n",
        "  Например сделал заказ, оплатил (при этом users и visits устанавливаются в 1 после получения товара), но получил после эксперимента.\n",
        " * 2. Или же совершил возврат во время эксперимента, но в metric_value это не учитывалось, что указывает на неправильную работу по подсчету metric_value. Тогда churn_users = 1\n",
        "\n",
        "Если верно 2., то нужно ли учитывать таких пользователей при проведении теста для metric_value?"
      ]
    },
    {
      "cell_type": "code",
      "metadata": {
        "pycharm": {
          "name": "#%%\n"
        },
        "colab": {
          "base_uri": "https://localhost:8080/"
        },
        "id": "XJrwR40RYJ5O",
        "outputId": "0c178c17-da6d-4304-915e-3e8fb2383050"
      },
      "source": [
        "data_user[(data_user['visits'] == 0) & (data_user['users'] == 0)].head()"
      ],
      "execution_count": null,
      "outputs": [
        {
          "output_type": "execute_result",
          "data": {
            "text/html": [
              "<div>\n",
              "<style scoped>\n",
              "    .dataframe tbody tr th:only-of-type {\n",
              "        vertical-align: middle;\n",
              "    }\n",
              "\n",
              "    .dataframe tbody tr th {\n",
              "        vertical-align: top;\n",
              "    }\n",
              "\n",
              "    .dataframe thead th {\n",
              "        text-align: right;\n",
              "    }\n",
              "</style>\n",
              "<table border=\"1\" class=\"dataframe\">\n",
              "  <thead>\n",
              "    <tr style=\"text-align: right;\">\n",
              "      <th></th>\n",
              "      <th>Unnamed: 0</th>\n",
              "      <th>group_id</th>\n",
              "      <th>metric_value</th>\n",
              "      <th>users</th>\n",
              "      <th>visits</th>\n",
              "      <th>churn_users</th>\n",
              "      <th>churn_visits</th>\n",
              "      <th>group</th>\n",
              "    </tr>\n",
              "  </thead>\n",
              "  <tbody>\n",
              "    <tr>\n",
              "      <th>0</th>\n",
              "      <td>0</td>\n",
              "      <td>8</td>\n",
              "      <td>6630.000</td>\n",
              "      <td>0</td>\n",
              "      <td>0</td>\n",
              "      <td>0</td>\n",
              "      <td>8</td>\n",
              "      <td>A</td>\n",
              "    </tr>\n",
              "    <tr>\n",
              "      <th>1</th>\n",
              "      <td>1</td>\n",
              "      <td>13</td>\n",
              "      <td>6933.976</td>\n",
              "      <td>0</td>\n",
              "      <td>0</td>\n",
              "      <td>1</td>\n",
              "      <td>6</td>\n",
              "      <td>B</td>\n",
              "    </tr>\n",
              "    <tr>\n",
              "      <th>5</th>\n",
              "      <td>5</td>\n",
              "      <td>2</td>\n",
              "      <td>8539.000</td>\n",
              "      <td>0</td>\n",
              "      <td>0</td>\n",
              "      <td>0</td>\n",
              "      <td>8</td>\n",
              "      <td>A</td>\n",
              "    </tr>\n",
              "    <tr>\n",
              "      <th>6</th>\n",
              "      <td>6</td>\n",
              "      <td>8</td>\n",
              "      <td>5714.000</td>\n",
              "      <td>0</td>\n",
              "      <td>0</td>\n",
              "      <td>0</td>\n",
              "      <td>7</td>\n",
              "      <td>A</td>\n",
              "    </tr>\n",
              "    <tr>\n",
              "      <th>7</th>\n",
              "      <td>7</td>\n",
              "      <td>3</td>\n",
              "      <td>7330.000</td>\n",
              "      <td>0</td>\n",
              "      <td>0</td>\n",
              "      <td>0</td>\n",
              "      <td>6</td>\n",
              "      <td>A</td>\n",
              "    </tr>\n",
              "  </tbody>\n",
              "</table>\n",
              "</div>"
            ],
            "text/plain": [
              "   Unnamed: 0  group_id  metric_value  ...  churn_users  churn_visits  group\n",
              "0           0         8      6630.000  ...            0             8      A\n",
              "1           1        13      6933.976  ...            1             6      B\n",
              "5           5         2      8539.000  ...            0             8      A\n",
              "6           6         8      5714.000  ...            0             7      A\n",
              "7           7         3      7330.000  ...            0             6      A\n",
              "\n",
              "[5 rows x 8 columns]"
            ]
          },
          "metadata": {},
          "execution_count": 12
        }
      ]
    },
    {
      "cell_type": "code",
      "metadata": {
        "pycharm": {
          "name": "#%%\n"
        },
        "colab": {
          "base_uri": "https://localhost:8080/"
        },
        "id": "apumZf89YJ5P",
        "outputId": "52d27f3c-315f-44bf-edf5-640903aa6b57"
      },
      "source": [
        "d = data_user[(data_user['visits'] == 0) & (data_user['users'] == 0) & (data_user['churn_users'] == 1)]\n",
        "print(d.shape)\n",
        "d.head()"
      ],
      "execution_count": null,
      "outputs": [
        {
          "output_type": "stream",
          "name": "stdout",
          "text": [
            "(1647, 8)\n"
          ]
        },
        {
          "output_type": "execute_result",
          "data": {
            "text/html": [
              "<div>\n",
              "<style scoped>\n",
              "    .dataframe tbody tr th:only-of-type {\n",
              "        vertical-align: middle;\n",
              "    }\n",
              "\n",
              "    .dataframe tbody tr th {\n",
              "        vertical-align: top;\n",
              "    }\n",
              "\n",
              "    .dataframe thead th {\n",
              "        text-align: right;\n",
              "    }\n",
              "</style>\n",
              "<table border=\"1\" class=\"dataframe\">\n",
              "  <thead>\n",
              "    <tr style=\"text-align: right;\">\n",
              "      <th></th>\n",
              "      <th>Unnamed: 0</th>\n",
              "      <th>group_id</th>\n",
              "      <th>metric_value</th>\n",
              "      <th>users</th>\n",
              "      <th>visits</th>\n",
              "      <th>churn_users</th>\n",
              "      <th>churn_visits</th>\n",
              "      <th>group</th>\n",
              "    </tr>\n",
              "  </thead>\n",
              "  <tbody>\n",
              "    <tr>\n",
              "      <th>1</th>\n",
              "      <td>1</td>\n",
              "      <td>13</td>\n",
              "      <td>6933.976</td>\n",
              "      <td>0</td>\n",
              "      <td>0</td>\n",
              "      <td>1</td>\n",
              "      <td>6</td>\n",
              "      <td>B</td>\n",
              "    </tr>\n",
              "    <tr>\n",
              "      <th>12</th>\n",
              "      <td>12</td>\n",
              "      <td>13</td>\n",
              "      <td>6812.976</td>\n",
              "      <td>0</td>\n",
              "      <td>0</td>\n",
              "      <td>1</td>\n",
              "      <td>8</td>\n",
              "      <td>B</td>\n",
              "    </tr>\n",
              "    <tr>\n",
              "      <th>13</th>\n",
              "      <td>13</td>\n",
              "      <td>1</td>\n",
              "      <td>6057.000</td>\n",
              "      <td>0</td>\n",
              "      <td>0</td>\n",
              "      <td>1</td>\n",
              "      <td>6</td>\n",
              "      <td>A</td>\n",
              "    </tr>\n",
              "    <tr>\n",
              "      <th>15</th>\n",
              "      <td>15</td>\n",
              "      <td>3</td>\n",
              "      <td>9056.000</td>\n",
              "      <td>0</td>\n",
              "      <td>0</td>\n",
              "      <td>1</td>\n",
              "      <td>5</td>\n",
              "      <td>A</td>\n",
              "    </tr>\n",
              "    <tr>\n",
              "      <th>17</th>\n",
              "      <td>17</td>\n",
              "      <td>9</td>\n",
              "      <td>7309.976</td>\n",
              "      <td>0</td>\n",
              "      <td>0</td>\n",
              "      <td>1</td>\n",
              "      <td>8</td>\n",
              "      <td>B</td>\n",
              "    </tr>\n",
              "  </tbody>\n",
              "</table>\n",
              "</div>"
            ],
            "text/plain": [
              "    Unnamed: 0  group_id  metric_value  ...  churn_users  churn_visits  group\n",
              "1            1        13      6933.976  ...            1             6      B\n",
              "12          12        13      6812.976  ...            1             8      B\n",
              "13          13         1      6057.000  ...            1             6      A\n",
              "15          15         3      9056.000  ...            1             5      A\n",
              "17          17         9      7309.976  ...            1             8      B\n",
              "\n",
              "[5 rows x 8 columns]"
            ]
          },
          "metadata": {},
          "execution_count": 13
        }
      ]
    },
    {
      "cell_type": "markdown",
      "metadata": {
        "collapsed": false,
        "pycharm": {
          "name": "#%% md\n"
        },
        "id": "neLdaRbNYJ5Q"
      },
      "source": [
        "#### 2. users = 1 и churn_users = 1\n",
        "   Для одного и того же пользователя, это можно интерпретировать следующим образом:\n",
        "    у пользователя был минимум 1 успешный заказ в рамках периода эксперимента, но так же были и визиты/заходы в приложение, при которых он заказ не сделал;\n"
      ]
    },
    {
      "cell_type": "code",
      "metadata": {
        "pycharm": {
          "name": "#%%\n"
        },
        "id": "R6Mp970gYJ5R",
        "colab": {
          "base_uri": "https://localhost:8080/"
        },
        "outputId": "3fa90eb8-b74f-49b3-b2fe-ef91ec1fada2"
      },
      "source": [
        "data_user[(data_user['users'] == 1) & (data_user['churn_users'] == 1)].head()"
      ],
      "execution_count": null,
      "outputs": [
        {
          "output_type": "execute_result",
          "data": {
            "text/html": [
              "<div>\n",
              "<style scoped>\n",
              "    .dataframe tbody tr th:only-of-type {\n",
              "        vertical-align: middle;\n",
              "    }\n",
              "\n",
              "    .dataframe tbody tr th {\n",
              "        vertical-align: top;\n",
              "    }\n",
              "\n",
              "    .dataframe thead th {\n",
              "        text-align: right;\n",
              "    }\n",
              "</style>\n",
              "<table border=\"1\" class=\"dataframe\">\n",
              "  <thead>\n",
              "    <tr style=\"text-align: right;\">\n",
              "      <th></th>\n",
              "      <th>Unnamed: 0</th>\n",
              "      <th>group_id</th>\n",
              "      <th>metric_value</th>\n",
              "      <th>users</th>\n",
              "      <th>visits</th>\n",
              "      <th>churn_users</th>\n",
              "      <th>churn_visits</th>\n",
              "      <th>group</th>\n",
              "    </tr>\n",
              "  </thead>\n",
              "  <tbody>\n",
              "    <tr>\n",
              "      <th>2</th>\n",
              "      <td>2</td>\n",
              "      <td>10</td>\n",
              "      <td>8261.976</td>\n",
              "      <td>1</td>\n",
              "      <td>10</td>\n",
              "      <td>1</td>\n",
              "      <td>8</td>\n",
              "      <td>B</td>\n",
              "    </tr>\n",
              "    <tr>\n",
              "      <th>3</th>\n",
              "      <td>3</td>\n",
              "      <td>4</td>\n",
              "      <td>5522.000</td>\n",
              "      <td>1</td>\n",
              "      <td>9</td>\n",
              "      <td>1</td>\n",
              "      <td>7</td>\n",
              "      <td>A</td>\n",
              "    </tr>\n",
              "    <tr>\n",
              "      <th>8</th>\n",
              "      <td>8</td>\n",
              "      <td>2</td>\n",
              "      <td>6759.000</td>\n",
              "      <td>1</td>\n",
              "      <td>4</td>\n",
              "      <td>1</td>\n",
              "      <td>7</td>\n",
              "      <td>A</td>\n",
              "    </tr>\n",
              "    <tr>\n",
              "      <th>16</th>\n",
              "      <td>16</td>\n",
              "      <td>1</td>\n",
              "      <td>7227.000</td>\n",
              "      <td>1</td>\n",
              "      <td>12</td>\n",
              "      <td>1</td>\n",
              "      <td>7</td>\n",
              "      <td>A</td>\n",
              "    </tr>\n",
              "    <tr>\n",
              "      <th>18</th>\n",
              "      <td>18</td>\n",
              "      <td>12</td>\n",
              "      <td>7254.976</td>\n",
              "      <td>1</td>\n",
              "      <td>22</td>\n",
              "      <td>1</td>\n",
              "      <td>6</td>\n",
              "      <td>B</td>\n",
              "    </tr>\n",
              "  </tbody>\n",
              "</table>\n",
              "</div>"
            ],
            "text/plain": [
              "    Unnamed: 0  group_id  metric_value  ...  churn_users  churn_visits  group\n",
              "2            2        10      8261.976  ...            1             8      B\n",
              "3            3         4      5522.000  ...            1             7      A\n",
              "8            8         2      6759.000  ...            1             7      A\n",
              "16          16         1      7227.000  ...            1             7      A\n",
              "18          18        12      7254.976  ...            1             6      B\n",
              "\n",
              "[5 rows x 8 columns]"
            ]
          },
          "metadata": {},
          "execution_count": 14
        }
      ]
    },
    {
      "cell_type": "markdown",
      "metadata": {
        "collapsed": false,
        "pycharm": {
          "name": "#%% md\n"
        },
        "id": "BezFFUp3YJ5R"
      },
      "source": [
        "#### 2. visits = 0, но users = 1\n",
        "пользователь совершил целевое действие,\n",
        " но отметки о том, что у него была сессия, окончившаяся этим самым действием, нет.\n",
        "Возможно потому, что он совершил ц.д., но сессия по каким-то причинам осталась открытой."
      ]
    },
    {
      "cell_type": "code",
      "metadata": {
        "pycharm": {
          "name": "#%%\n"
        },
        "id": "updnsa2PYJ5S",
        "colab": {
          "base_uri": "https://localhost:8080/"
        },
        "outputId": "e21ffcdc-4d12-4597-843d-f9e1dfc8abc7"
      },
      "source": [
        "data_user[(data_user['visits'] == 0) & (data_user['users'] > 0)]"
      ],
      "execution_count": null,
      "outputs": [
        {
          "output_type": "execute_result",
          "data": {
            "text/html": [
              "<div>\n",
              "<style scoped>\n",
              "    .dataframe tbody tr th:only-of-type {\n",
              "        vertical-align: middle;\n",
              "    }\n",
              "\n",
              "    .dataframe tbody tr th {\n",
              "        vertical-align: top;\n",
              "    }\n",
              "\n",
              "    .dataframe thead th {\n",
              "        text-align: right;\n",
              "    }\n",
              "</style>\n",
              "<table border=\"1\" class=\"dataframe\">\n",
              "  <thead>\n",
              "    <tr style=\"text-align: right;\">\n",
              "      <th></th>\n",
              "      <th>Unnamed: 0</th>\n",
              "      <th>group_id</th>\n",
              "      <th>metric_value</th>\n",
              "      <th>users</th>\n",
              "      <th>visits</th>\n",
              "      <th>churn_users</th>\n",
              "      <th>churn_visits</th>\n",
              "      <th>group</th>\n",
              "    </tr>\n",
              "  </thead>\n",
              "  <tbody>\n",
              "    <tr>\n",
              "      <th>27</th>\n",
              "      <td>27</td>\n",
              "      <td>15</td>\n",
              "      <td>5181.976</td>\n",
              "      <td>1</td>\n",
              "      <td>0</td>\n",
              "      <td>0</td>\n",
              "      <td>9</td>\n",
              "      <td>B</td>\n",
              "    </tr>\n",
              "    <tr>\n",
              "      <th>53</th>\n",
              "      <td>53</td>\n",
              "      <td>2</td>\n",
              "      <td>5989.000</td>\n",
              "      <td>1</td>\n",
              "      <td>0</td>\n",
              "      <td>1</td>\n",
              "      <td>6</td>\n",
              "      <td>A</td>\n",
              "    </tr>\n",
              "    <tr>\n",
              "      <th>71</th>\n",
              "      <td>71</td>\n",
              "      <td>8</td>\n",
              "      <td>8102.000</td>\n",
              "      <td>1</td>\n",
              "      <td>0</td>\n",
              "      <td>0</td>\n",
              "      <td>5</td>\n",
              "      <td>A</td>\n",
              "    </tr>\n",
              "    <tr>\n",
              "      <th>89</th>\n",
              "      <td>89</td>\n",
              "      <td>16</td>\n",
              "      <td>7727.976</td>\n",
              "      <td>1</td>\n",
              "      <td>0</td>\n",
              "      <td>1</td>\n",
              "      <td>5</td>\n",
              "      <td>B</td>\n",
              "    </tr>\n",
              "    <tr>\n",
              "      <th>161</th>\n",
              "      <td>161</td>\n",
              "      <td>5</td>\n",
              "      <td>8057.000</td>\n",
              "      <td>1</td>\n",
              "      <td>0</td>\n",
              "      <td>0</td>\n",
              "      <td>6</td>\n",
              "      <td>A</td>\n",
              "    </tr>\n",
              "    <tr>\n",
              "      <th>...</th>\n",
              "      <td>...</td>\n",
              "      <td>...</td>\n",
              "      <td>...</td>\n",
              "      <td>...</td>\n",
              "      <td>...</td>\n",
              "      <td>...</td>\n",
              "      <td>...</td>\n",
              "      <td>...</td>\n",
              "    </tr>\n",
              "    <tr>\n",
              "      <th>4915</th>\n",
              "      <td>4915</td>\n",
              "      <td>8</td>\n",
              "      <td>7650.000</td>\n",
              "      <td>1</td>\n",
              "      <td>0</td>\n",
              "      <td>1</td>\n",
              "      <td>7</td>\n",
              "      <td>A</td>\n",
              "    </tr>\n",
              "    <tr>\n",
              "      <th>4924</th>\n",
              "      <td>4924</td>\n",
              "      <td>8</td>\n",
              "      <td>5538.000</td>\n",
              "      <td>1</td>\n",
              "      <td>0</td>\n",
              "      <td>0</td>\n",
              "      <td>9</td>\n",
              "      <td>A</td>\n",
              "    </tr>\n",
              "    <tr>\n",
              "      <th>4960</th>\n",
              "      <td>4960</td>\n",
              "      <td>11</td>\n",
              "      <td>7034.976</td>\n",
              "      <td>1</td>\n",
              "      <td>0</td>\n",
              "      <td>1</td>\n",
              "      <td>7</td>\n",
              "      <td>B</td>\n",
              "    </tr>\n",
              "    <tr>\n",
              "      <th>4968</th>\n",
              "      <td>4968</td>\n",
              "      <td>2</td>\n",
              "      <td>7295.000</td>\n",
              "      <td>1</td>\n",
              "      <td>0</td>\n",
              "      <td>0</td>\n",
              "      <td>9</td>\n",
              "      <td>A</td>\n",
              "    </tr>\n",
              "    <tr>\n",
              "      <th>4972</th>\n",
              "      <td>4972</td>\n",
              "      <td>7</td>\n",
              "      <td>7320.000</td>\n",
              "      <td>1</td>\n",
              "      <td>0</td>\n",
              "      <td>1</td>\n",
              "      <td>2</td>\n",
              "      <td>A</td>\n",
              "    </tr>\n",
              "  </tbody>\n",
              "</table>\n",
              "<p>217 rows × 8 columns</p>\n",
              "</div>"
            ],
            "text/plain": [
              "      Unnamed: 0  group_id  metric_value  ...  churn_users  churn_visits  group\n",
              "27            27        15      5181.976  ...            0             9      B\n",
              "53            53         2      5989.000  ...            1             6      A\n",
              "71            71         8      8102.000  ...            0             5      A\n",
              "89            89        16      7727.976  ...            1             5      B\n",
              "161          161         5      8057.000  ...            0             6      A\n",
              "...          ...       ...           ...  ...          ...           ...    ...\n",
              "4915        4915         8      7650.000  ...            1             7      A\n",
              "4924        4924         8      5538.000  ...            0             9      A\n",
              "4960        4960        11      7034.976  ...            1             7      B\n",
              "4968        4968         2      7295.000  ...            0             9      A\n",
              "4972        4972         7      7320.000  ...            1             2      A\n",
              "\n",
              "[217 rows x 8 columns]"
            ]
          },
          "metadata": {},
          "execution_count": 15
        }
      ]
    },
    {
      "cell_type": "markdown",
      "metadata": {
        "collapsed": false,
        "pycharm": {
          "name": "#%% md\n"
        },
        "id": "rKsfOyZ0YJ5S"
      },
      "source": [
        "#### 3. churn_visits = 0, но churn_users = 1\n",
        " т.е. пользователь отменил заказ, но при этом сессия не учтена как не закончившаяся успешным целевым действием.\n",
        "  * Возможно потому, что в рамках одной сессии он мог отказаться, но затем совершить заказ (ц.д.), поэтому сессия не учтена как незакончившаяся цд-ем.\n",
        "  * В двух последних строках, возможно, создал аккаунт и удалил"
      ]
    },
    {
      "cell_type": "code",
      "metadata": {
        "pycharm": {
          "name": "#%%\n"
        },
        "id": "hYavKRgkYJ5T",
        "colab": {
          "base_uri": "https://localhost:8080/"
        },
        "outputId": "35b11b67-c1be-4e0d-acea-fef5acf66fb6"
      },
      "source": [
        "data_user[(data_user['churn_visits'] == 0) & (data_user['churn_users'] > 0)]"
      ],
      "execution_count": null,
      "outputs": [
        {
          "output_type": "execute_result",
          "data": {
            "text/html": [
              "<div>\n",
              "<style scoped>\n",
              "    .dataframe tbody tr th:only-of-type {\n",
              "        vertical-align: middle;\n",
              "    }\n",
              "\n",
              "    .dataframe tbody tr th {\n",
              "        vertical-align: top;\n",
              "    }\n",
              "\n",
              "    .dataframe thead th {\n",
              "        text-align: right;\n",
              "    }\n",
              "</style>\n",
              "<table border=\"1\" class=\"dataframe\">\n",
              "  <thead>\n",
              "    <tr style=\"text-align: right;\">\n",
              "      <th></th>\n",
              "      <th>Unnamed: 0</th>\n",
              "      <th>group_id</th>\n",
              "      <th>metric_value</th>\n",
              "      <th>users</th>\n",
              "      <th>visits</th>\n",
              "      <th>churn_users</th>\n",
              "      <th>churn_visits</th>\n",
              "      <th>group</th>\n",
              "    </tr>\n",
              "  </thead>\n",
              "  <tbody>\n",
              "    <tr>\n",
              "      <th>514</th>\n",
              "      <td>514</td>\n",
              "      <td>7</td>\n",
              "      <td>5413.000</td>\n",
              "      <td>1</td>\n",
              "      <td>0</td>\n",
              "      <td>1</td>\n",
              "      <td>0</td>\n",
              "      <td>A</td>\n",
              "    </tr>\n",
              "    <tr>\n",
              "      <th>1004</th>\n",
              "      <td>1004</td>\n",
              "      <td>15</td>\n",
              "      <td>6687.976</td>\n",
              "      <td>1</td>\n",
              "      <td>1</td>\n",
              "      <td>1</td>\n",
              "      <td>0</td>\n",
              "      <td>B</td>\n",
              "    </tr>\n",
              "    <tr>\n",
              "      <th>1765</th>\n",
              "      <td>1765</td>\n",
              "      <td>1</td>\n",
              "      <td>6097.000</td>\n",
              "      <td>1</td>\n",
              "      <td>3</td>\n",
              "      <td>1</td>\n",
              "      <td>0</td>\n",
              "      <td>A</td>\n",
              "    </tr>\n",
              "    <tr>\n",
              "      <th>2153</th>\n",
              "      <td>2153</td>\n",
              "      <td>11</td>\n",
              "      <td>4508.976</td>\n",
              "      <td>0</td>\n",
              "      <td>0</td>\n",
              "      <td>1</td>\n",
              "      <td>0</td>\n",
              "      <td>B</td>\n",
              "    </tr>\n",
              "    <tr>\n",
              "      <th>4700</th>\n",
              "      <td>4700</td>\n",
              "      <td>11</td>\n",
              "      <td>5684.976</td>\n",
              "      <td>0</td>\n",
              "      <td>0</td>\n",
              "      <td>1</td>\n",
              "      <td>0</td>\n",
              "      <td>B</td>\n",
              "    </tr>\n",
              "  </tbody>\n",
              "</table>\n",
              "</div>"
            ],
            "text/plain": [
              "      Unnamed: 0  group_id  metric_value  ...  churn_users  churn_visits  group\n",
              "514          514         7      5413.000  ...            1             0      A\n",
              "1004        1004        15      6687.976  ...            1             0      B\n",
              "1765        1765         1      6097.000  ...            1             0      A\n",
              "2153        2153        11      4508.976  ...            1             0      B\n",
              "4700        4700        11      5684.976  ...            1             0      B\n",
              "\n",
              "[5 rows x 8 columns]"
            ]
          },
          "metadata": {},
          "execution_count": 16
        }
      ]
    },
    {
      "cell_type": "markdown",
      "metadata": {
        "collapsed": false,
        "pycharm": {
          "name": "#%% md\n"
        },
        "id": "X1iV6FAAYJ5U"
      },
      "source": [
        "#### 4. churn_visits > 0, но churn_users = 0\n",
        "  Мог заходить на \"сайт\" и ничего не делать (users=0, visits=0) или делать без отказов (users=1, visits>=0)."
      ]
    },
    {
      "cell_type": "code",
      "metadata": {
        "pycharm": {
          "name": "#%%\n"
        },
        "id": "xQXdBExTYJ5U",
        "colab": {
          "base_uri": "https://localhost:8080/"
        },
        "outputId": "c9c50993-859d-4b34-9058-f834c4a4874d"
      },
      "source": [
        "data_user[(data_user['churn_visits'] > 0) & (data_user['churn_users'] == 0)].head()"
      ],
      "execution_count": null,
      "outputs": [
        {
          "output_type": "execute_result",
          "data": {
            "text/html": [
              "<div>\n",
              "<style scoped>\n",
              "    .dataframe tbody tr th:only-of-type {\n",
              "        vertical-align: middle;\n",
              "    }\n",
              "\n",
              "    .dataframe tbody tr th {\n",
              "        vertical-align: top;\n",
              "    }\n",
              "\n",
              "    .dataframe thead th {\n",
              "        text-align: right;\n",
              "    }\n",
              "</style>\n",
              "<table border=\"1\" class=\"dataframe\">\n",
              "  <thead>\n",
              "    <tr style=\"text-align: right;\">\n",
              "      <th></th>\n",
              "      <th>Unnamed: 0</th>\n",
              "      <th>group_id</th>\n",
              "      <th>metric_value</th>\n",
              "      <th>users</th>\n",
              "      <th>visits</th>\n",
              "      <th>churn_users</th>\n",
              "      <th>churn_visits</th>\n",
              "      <th>group</th>\n",
              "    </tr>\n",
              "  </thead>\n",
              "  <tbody>\n",
              "    <tr>\n",
              "      <th>0</th>\n",
              "      <td>0</td>\n",
              "      <td>8</td>\n",
              "      <td>6630.000</td>\n",
              "      <td>0</td>\n",
              "      <td>0</td>\n",
              "      <td>0</td>\n",
              "      <td>8</td>\n",
              "      <td>A</td>\n",
              "    </tr>\n",
              "    <tr>\n",
              "      <th>4</th>\n",
              "      <td>4</td>\n",
              "      <td>16</td>\n",
              "      <td>5075.976</td>\n",
              "      <td>1</td>\n",
              "      <td>6</td>\n",
              "      <td>0</td>\n",
              "      <td>8</td>\n",
              "      <td>B</td>\n",
              "    </tr>\n",
              "    <tr>\n",
              "      <th>5</th>\n",
              "      <td>5</td>\n",
              "      <td>2</td>\n",
              "      <td>8539.000</td>\n",
              "      <td>0</td>\n",
              "      <td>0</td>\n",
              "      <td>0</td>\n",
              "      <td>8</td>\n",
              "      <td>A</td>\n",
              "    </tr>\n",
              "    <tr>\n",
              "      <th>6</th>\n",
              "      <td>6</td>\n",
              "      <td>8</td>\n",
              "      <td>5714.000</td>\n",
              "      <td>0</td>\n",
              "      <td>0</td>\n",
              "      <td>0</td>\n",
              "      <td>7</td>\n",
              "      <td>A</td>\n",
              "    </tr>\n",
              "    <tr>\n",
              "      <th>7</th>\n",
              "      <td>7</td>\n",
              "      <td>3</td>\n",
              "      <td>7330.000</td>\n",
              "      <td>0</td>\n",
              "      <td>0</td>\n",
              "      <td>0</td>\n",
              "      <td>6</td>\n",
              "      <td>A</td>\n",
              "    </tr>\n",
              "  </tbody>\n",
              "</table>\n",
              "</div>"
            ],
            "text/plain": [
              "   Unnamed: 0  group_id  metric_value  ...  churn_users  churn_visits  group\n",
              "0           0         8      6630.000  ...            0             8      A\n",
              "4           4        16      5075.976  ...            0             8      B\n",
              "5           5         2      8539.000  ...            0             8      A\n",
              "6           6         8      5714.000  ...            0             7      A\n",
              "7           7         3      7330.000  ...            0             6      A\n",
              "\n",
              "[5 rows x 8 columns]"
            ]
          },
          "metadata": {},
          "execution_count": 57
        }
      ]
    },
    {
      "cell_type": "code",
      "metadata": {
        "pycharm": {
          "name": "#%%\n"
        },
        "id": "XMT1VrT7YJ5V"
      },
      "source": [
        "A = data_user[data_user['group'] == 'A']\n",
        "B = data_user[data_user['group'] == 'B']"
      ],
      "execution_count": null,
      "outputs": []
    },
    {
      "cell_type": "code",
      "metadata": {
        "pycharm": {
          "name": "#%%\n"
        },
        "colab": {
          "base_uri": "https://localhost:8080/"
        },
        "id": "3dMyH28HYJ5W",
        "outputId": "4b06de95-47c2-49cc-9ee4-78e0d2ea759d"
      },
      "source": [
        "A.shape, B.shape"
      ],
      "execution_count": null,
      "outputs": [
        {
          "output_type": "execute_result",
          "data": {
            "text/plain": [
              "((2451, 8), (2549, 8))"
            ]
          },
          "metadata": {},
          "execution_count": 59
        }
      ]
    },
    {
      "cell_type": "code",
      "metadata": {
        "pycharm": {
          "name": "#%%\n"
        },
        "id": "KQXAftRuYJ5W"
      },
      "source": [
        "def show_hist(A, B, feature):\n",
        "    plt.figure(figsize=(10, 8))\n",
        "    A[feature].hist( density=True, bins=int(np.sqrt(A.shape[0])), label='A')\n",
        "    B[feature].hist(density=True, alpha=0.6, bins=int(np.sqrt(A.shape[0])), label='B')\n",
        "\n",
        "    plt.axvline(x=A[feature].mean(), color='r', label='A mean')\n",
        "    plt.axvline(x=B[feature].mean(), color='g', label='B mean')\n",
        "\n",
        "    plt.axvline(x=A[feature].median(), color='yellow', label='A median')\n",
        "    plt.axvline(x=B[feature].median(), color='indigo', label='B median')\n",
        "\n",
        "    plt.xlabel(feature)\n",
        "\n",
        "    plt.legend()\n",
        "    plt.show()"
      ],
      "execution_count": null,
      "outputs": []
    },
    {
      "cell_type": "code",
      "metadata": {
        "pycharm": {
          "name": "#%%\n"
        },
        "colab": {
          "base_uri": "https://localhost:8080/"
        },
        "id": "JbD03ov1YJ5X",
        "outputId": "a721ea4d-d8a1-4694-c384-ea8c8be051e5"
      },
      "source": [
        "show_hist(A, B, 'metric_value')"
      ],
      "execution_count": null,
      "outputs": [
        {
          "output_type": "display_data",
          "data": {
            "image/png": "[encoded data removed]",
            "text/plain": [
              "<Figure size 720x576 with 1 Axes>"
            ]
          },
          "metadata": {
            "needs_background": "light"
          }
        }
      ]
    },
    {
      "cell_type": "code",
      "metadata": {
        "pycharm": {
          "name": "#%%\n"
        },
        "colab": {
          "base_uri": "https://localhost:8080/"
        },
        "id": "fp781jctYJ5X",
        "outputId": "926417ca-55ec-486d-ac69-04056a8a7542"
      },
      "source": [
        "plt.figure(figsize=(10, 8))\n",
        "sns.boxplot(x='group', y='metric_value',\n",
        "            data=data_user, showmeans=True)"
      ],
      "execution_count": null,
      "outputs": [
        {
          "output_type": "execute_result",
          "data": {
            "text/plain": [
              "<matplotlib.axes._subplots.AxesSubplot at 0x7f3d1cdc1650>"
            ]
          },
          "metadata": {},
          "execution_count": 62
        },
        {
          "output_type": "display_data",
          "data": {
            "image/png": "[encoded data removed]",
            "text/plain": [
              "<Figure size 720x576 with 1 Axes>"
            ]
          },
          "metadata": {
            "needs_background": "light"
          }
        }
      ]
    },
    {
      "cell_type": "markdown",
      "metadata": {
        "collapsed": false,
        "pycharm": {
          "name": "#%% md\n"
        },
        "id": "ARQV8HnCYJ5Y"
      },
      "source": [
        "#### 1. Проверка распределения на нормальность\n",
        "Проверим распределения на нормальность, чтобы узнать, можно ли использовать параметрические критерии."
      ]
    },
    {
      "cell_type": "code",
      "metadata": {
        "pycharm": {
          "name": "#%%\n"
        },
        "id": "ICif44USYJ5Z"
      },
      "source": [
        "alpha = 0.05"
      ],
      "execution_count": null,
      "outputs": []
    },
    {
      "cell_type": "markdown",
      "metadata": {
        "collapsed": false,
        "pycharm": {
          "name": "#%% md\n"
        },
        "id": "5hCu8Ci5YJ5Z"
      },
      "source": [
        "##### 1.1 Тест Колмогорова-Смирнова\n",
        "Изначально писал в локальном jupyter-notebook\n",
        "При переносе в colab оказалось, что установленная на нем версия scipy.kstest\n",
        "не принимает np.array в качестве аргумента, пришлось закомментировать и написать 'norm'"
      ]
    },
    {
      "cell_type": "code",
      "metadata": {
        "pycharm": {
          "name": "#%%\n"
        },
        "id": "m22mxeYQYJ5Z"
      },
      "source": [
        "def check_normal_kol(A, B, feature):\n",
        "    res_cont = kstest(A[feature], 'norm')\n",
        "                #  norm.rvs(loc=A[feature].mean(), scale=A[feature].std(), size=10000))\n",
        "    print(res_cont)\n",
        "    print('Distribution of control group is {}normal\\n'.format( {True:'not ', False:''}[res_cont[1] < alpha]))\n",
        "\n",
        "    res_test = kstest(B[feature], 'norm')\n",
        "                #  norm.rvs(loc=B[feature].mean(), scale=B[feature].std(), size=10000))\n",
        "    print(res_test)\n",
        "    print('Distribution of test group is {}normal'.format( {True:'not ', False:''}[res_test[1] < alpha]))"
      ],
      "execution_count": null,
      "outputs": []
    },
    {
      "cell_type": "code",
      "metadata": {
        "pycharm": {
          "name": "#%%\n"
        },
        "colab": {
          "base_uri": "https://localhost:8080/"
        },
        "id": "53HaLATaYJ5a",
        "outputId": "f2b9b084-913c-429b-a5b0-050652474d59"
      },
      "source": [
        "check_normal_kol(A, B, 'metric_value')"
      ],
      "execution_count": null,
      "outputs": [
        {
          "output_type": "stream",
          "name": "stdout",
          "text": [
            "KstestResult(statistic=1.0, pvalue=0.0)\n",
            "Distribution of control group is not normal\n",
            "\n",
            "KstestResult(statistic=1.0, pvalue=0.0)\n",
            "Distribution of test group is not normal\n"
          ]
        }
      ]
    },
    {
      "cell_type": "markdown",
      "metadata": {
        "collapsed": false,
        "pycharm": {
          "name": "#%% md\n"
        },
        "id": "rbLK0r4WYJ5a"
      },
      "source": [
        "##### 1.2 Критерий Шапиро-Уилкса"
      ]
    },
    {
      "cell_type": "code",
      "metadata": {
        "pycharm": {
          "name": "#%%\n"
        },
        "id": "K_CPsH-3YJ5a"
      },
      "source": [
        "def check_normal_shapiro(A, B, feature):\n",
        "    res_cont = shapiro(A[feature])\n",
        "    print(res_cont)\n",
        "    print('Distributions of control group is {}normal\\n'.format( {True:'not ', False:''}[res_cont[1] < alpha]))\n",
        "\n",
        "    res_test = shapiro(B[feature])\n",
        "    print(res_test)\n",
        "    print('Distributions of test group is {}normal'.format( {True:'not ', False:''}[res_test[1] < alpha]))"
      ],
      "execution_count": null,
      "outputs": []
    },
    {
      "cell_type": "code",
      "metadata": {
        "pycharm": {
          "name": "#%%\n"
        },
        "id": "j4-H7mFeYJ5b",
        "colab": {
          "base_uri": "https://localhost:8080/"
        },
        "outputId": "a234c6e5-4aa6-4aee-ec57-8868b1a41826"
      },
      "source": [
        "check_normal_shapiro(A, B, 'metric_value')"
      ],
      "execution_count": null,
      "outputs": [
        {
          "output_type": "stream",
          "name": "stdout",
          "text": [
            "(0.9951456189155579, 3.546447828739474e-07)\n",
            "Distributions of control group is not normal\n",
            "\n",
            "(0.9923585057258606, 2.4686641619808825e-10)\n",
            "Distributions of test group is not normal\n"
          ]
        }
      ]
    },
    {
      "cell_type": "markdown",
      "metadata": {
        "collapsed": false,
        "pycharm": {
          "name": "#%% md\n"
        },
        "id": "sroqstaCYJ5b"
      },
      "source": [
        "Результат критерия Шапиро-Уилкса предпочтительней, т.к. он обладает большей мощностью (меньше вероятность ошибочно принять H0 - что распределение нормальное).\n",
        "Оба распределения не являются нормальными, поэтому будем использовать непараметрические критерии."
      ]
    },
    {
      "cell_type": "markdown",
      "metadata": {
        "collapsed": false,
        "pycharm": {
          "name": "#%% md\n"
        },
        "id": "VH_OvHROYJ5b"
      },
      "source": [
        "#### 2 Проверка на равенство дисперсий\n",
        "  Для проверки используем критерий Левена, т.к. он менее чувствителен к отклонению распределения от нормального\n"
      ]
    },
    {
      "cell_type": "markdown",
      "metadata": {
        "collapsed": false,
        "pycharm": {
          "name": "#%% md\n"
        },
        "id": "bU1vJB6JYJ5c"
      },
      "source": [
        "##### 2.1 Критерий Левена"
      ]
    },
    {
      "cell_type": "code",
      "metadata": {
        "pycharm": {
          "name": "#%%\n"
        },
        "id": "NSOSKvIHYJ5c"
      },
      "source": [
        "from scipy.stats import f_oneway, bartlett, levene\n",
        "def levene_test(df1, df2, alpha=0.05):\n",
        "    st = levene(df1, df2)\n",
        "    print('Variances of distributions is {}equal\\n'.format({True:'not ', False:''}[st[1] < alpha]))"
      ],
      "execution_count": null,
      "outputs": []
    },
    {
      "cell_type": "code",
      "metadata": {
        "pycharm": {
          "name": "#%%\n"
        },
        "id": "6E-kClggYJ5d",
        "colab": {
          "base_uri": "https://localhost:8080/"
        },
        "outputId": "51dec831-e509-4ffc-dfd9-cb1168bd13a0"
      },
      "source": [
        "levene_test(A['metric_value'], B['metric_value'])"
      ],
      "execution_count": null,
      "outputs": [
        {
          "output_type": "stream",
          "name": "stdout",
          "text": [
            "Variances of distributions is equal\n",
            "\n"
          ]
        }
      ]
    },
    {
      "cell_type": "markdown",
      "metadata": {
        "collapsed": false,
        "pycharm": {
          "name": "#%% md\n"
        },
        "id": "cMhwtIwMYJ5d"
      },
      "source": [
        "#### 3. Проверка на стат знчимость различий\n",
        "Используем U-критерий Манна-Уитни, т.к. он не требует нормальность и однородность дисперсий"
      ]
    },
    {
      "cell_type": "markdown",
      "metadata": {
        "collapsed": false,
        "pycharm": {
          "name": "#%% md\n"
        },
        "id": "4VitqvMpYJ5e"
      },
      "source": [
        "##### 3.1 U-Критерий Манна-Уитни"
      ]
    },
    {
      "cell_type": "code",
      "metadata": {
        "pycharm": {
          "name": "#%%\n"
        },
        "id": "bFsGZ6sgYJ5e",
        "colab": {
          "base_uri": "https://localhost:8080/"
        },
        "outputId": "7188ff79-4b53-4de1-d960-13aabef43fdd"
      },
      "source": [
        "st = mannwhitneyu(A.metric_value.unique(), B.metric_value.unique())\n",
        "print(st)\n",
        "print('Diffs is {}significant\\n'.format( {False:'not ',\n",
        "                                          True:''}[st[1] < alpha]))"
      ],
      "execution_count": null,
      "outputs": [
        {
          "output_type": "stream",
          "name": "stdout",
          "text": [
            "MannwhitneyuResult(statistic=1829355.0, pvalue=1.8008542516108292e-15)\n",
            "Diffs is significant\n",
            "\n"
          ]
        }
      ]
    },
    {
      "cell_type": "markdown",
      "metadata": {
        "collapsed": false,
        "pycharm": {
          "name": "#%% md\n"
        },
        "id": "y4Ddm62aYJ5e"
      },
      "source": [
        "Получили статистически значимое различие"
      ]
    },
    {
      "cell_type": "code",
      "metadata": {
        "pycharm": {
          "name": "#%%\n"
        },
        "id": "OdmscrYXYJ5f",
        "colab": {
          "base_uri": "https://localhost:8080/"
        },
        "outputId": "4dc80f02-2ee6-4919-840c-2cb914a07aef"
      },
      "source": [
        "print('difference:', np.round(B.metric_value.mean() - A.metric_value.mean()))\n",
        "print(f'observed effect: {np.round(100 * (B.metric_value.mean() - A.metric_value.mean()) / A.metric_value.mean())} %')"
      ],
      "execution_count": null,
      "outputs": [
        {
          "output_type": "stream",
          "name": "stdout",
          "text": [
            "difference: 433.0\n",
            "observed effect: 7.0 %\n"
          ]
        }
      ]
    },
    {
      "cell_type": "markdown",
      "metadata": {
        "collapsed": false,
        "pycharm": {
          "name": "#%% md\n"
        },
        "id": "i5D6NICgYJ5f"
      },
      "source": [
        "Получили статистически значимый эффект увеличения metric_value на 7% (на 433)"
      ]
    },
    {
      "cell_type": "markdown",
      "metadata": {
        "collapsed": false,
        "pycharm": {
          "name": "#%% md\n"
        },
        "id": "5hA3UTG5YJ5f"
      },
      "source": [
        "Просто интересно, что выдаст t test"
      ]
    },
    {
      "cell_type": "code",
      "metadata": {
        "pycharm": {
          "name": "#%%\n"
        },
        "id": "YGF3OGq9YJ5g",
        "colab": {
          "base_uri": "https://localhost:8080/"
        },
        "outputId": "f1a3b925-680e-4e86-b3e8-b89bd8cf2415"
      },
      "source": [
        "t_st = ttest_ind(A.metric_value, B.metric_value)\n",
        "print(t_st)\n",
        "print('Diffs is {}significant\\n'.format( {False:'not ',\n",
        "                                          True:''}[t_st[1] < alpha]))"
      ],
      "execution_count": null,
      "outputs": [
        {
          "output_type": "stream",
          "name": "stdout",
          "text": [
            "Ttest_indResult(statistic=-8.943431681351806, pvalue=5.219043548940759e-19)\n",
            "Diffs is significant\n",
            "\n"
          ]
        }
      ]
    },
    {
      "cell_type": "markdown",
      "metadata": {
        "collapsed": false,
        "pycharm": {
          "name": "#%% md\n"
        },
        "id": "j3S1GIHxYJ5g"
      },
      "source": [
        "#### 4 Расчет размера выборки"
      ]
    },
    {
      "cell_type": "code",
      "metadata": {
        "pycharm": {
          "name": "#%%\n"
        },
        "id": "r2P4KdnmYJ5g",
        "colab": {
          "base_uri": "https://localhost:8080/"
        },
        "outputId": "ef803819-d652-4047-f392-cd604e4e116c"
      },
      "source": [
        "from statsmodels.stats.power import TTestIndPower"
      ],
      "execution_count": null,
      "outputs": [
        {
          "output_type": "stream",
          "name": "stderr",
          "text": [
            "/usr/local/lib/python3.7/dist-packages/statsmodels/tools/_testing.py:19: FutureWarning: pandas.util.testing is deprecated. Use the functions in the public API at pandas.testing instead.\n",
            "  import pandas.util.testing as tm\n"
          ]
        }
      ]
    },
    {
      "cell_type": "code",
      "metadata": {
        "pycharm": {
          "name": "#%%\n"
        },
        "id": "vVR0enItYJ5h",
        "colab": {
          "base_uri": "https://localhost:8080/"
        },
        "outputId": "f7b7b455-543e-46e2-adfe-6c6e246f87d1"
      },
      "source": [
        "effect = 0.07\n",
        "alpha = 0.05\n",
        "power = 0.8\n",
        "analysis = TTestIndPower()\n",
        "# result = analysis.solve_power(effect, power=power, ratio=1.0, alpha=alpha)\n",
        "peop_per_day = data_user.shape[0] / 14\n",
        "\n",
        "\n",
        "print(f'A: {A.shape[0]}, B: {B.shape[0]}')\n",
        "\n",
        "for eff in [7, 8, 10]:\n",
        "    result = analysis.solve_power(eff/100, power=power, ratio=1.0, alpha=alpha)\n",
        "    cnt = int(result)+1\n",
        "    a = cnt - A.shape[0]\n",
        "    b = cnt - B.shape[0]\n",
        "\n",
        "    print(f'effect {eff}%')\n",
        "    print(f'  Нужно набрать: {cnt} человек для каждой группы')\n",
        "    if a >= 0:\n",
        "      print(f'  Для контрольной нужно набрать еще: {a}')\n",
        "    if b >= 0:\n",
        "      print(f'  Для экспериментальной нужно набрать еще: {b}')\n",
        "    print(f'  Для нового набора понадобится {int(2*cnt / peop_per_day)+1} дней')\n",
        "    if a >= 0 or b >= 0:\n",
        "      print(f'  Для  донабора понадобится {int(max(a, b) / peop_per_day)+1} дней')"
      ],
      "execution_count": null,
      "outputs": [
        {
          "output_type": "stream",
          "name": "stdout",
          "text": [
            "A: 2451, B: 2549\n",
            "effect 7%\n",
            "  Нужно набрать: 3205 человек для каждой группы\n",
            "  Для контрольной нужно набрать еще: 754\n",
            "  Для экспериментальной нужно набрать еще: 656\n",
            "  Для нового набора понадобится 18 дней\n",
            "  Для  донабора понадобится 3 дней\n",
            "effect 8%\n",
            "  Нужно набрать: 2454 человек для каждой группы\n",
            "  Для контрольной нужно набрать еще: 3\n",
            "  Для нового набора понадобится 14 дней\n",
            "  Для  донабора понадобится 1 дней\n",
            "effect 10%\n",
            "  Нужно набрать: 1571 человек для каждой группы\n",
            "  Для нового набора понадобится 9 дней\n"
          ]
        }
      ]
    },
    {
      "cell_type": "markdown",
      "metadata": {
        "collapsed": false,
        "pycharm": {
          "name": "#%% md\n"
        },
        "id": "1KK_vMlUYJ5h"
      },
      "source": [
        "#####  Проведем тест без пользователей с users=0, visits=0, churn_users=1"
      ]
    },
    {
      "cell_type": "code",
      "metadata": {
        "pycharm": {
          "name": "#%%\n"
        },
        "id": "UhU3wWxxYJ5i"
      },
      "source": [
        "g = iter(data_user[(data_user['visits'] == 0) & (data_user['users'] == 0)].groupby('group'))\n",
        "_, A = next(g)\n",
        "_, B = next(g)"
      ],
      "execution_count": null,
      "outputs": []
    },
    {
      "cell_type": "code",
      "metadata": {
        "pycharm": {
          "name": "#%%\n"
        },
        "id": "l_qQt1YRYJ5i",
        "colab": {
          "base_uri": "https://localhost:8080/",
          "height": 498
        },
        "outputId": "81ee3fce-5896-49bd-a8a9-86fd3591e39b"
      },
      "source": [
        "show_hist(A, B, 'metric_value')"
      ],
      "execution_count": null,
      "outputs": [
        {
          "output_type": "display_data",
          "data": {
            "image/png": "[encoded data removed]",
            "text/plain": [
              "<Figure size 720x576 with 1 Axes>"
            ]
          },
          "metadata": {
            "needs_background": "light"
          }
        }
      ]
    },
    {
      "cell_type": "code",
      "metadata": {
        "pycharm": {
          "name": "#%%\n"
        },
        "id": "yO00d1DFYJ5i",
        "colab": {
          "base_uri": "https://localhost:8080/",
          "height": 514
        },
        "outputId": "15632dfc-9229-4585-82af-450682b46390"
      },
      "source": [
        "plt.figure(figsize=(10, 8))\n",
        "sns.boxplot(x='group', y='metric_value',\n",
        "            data=data_user, showmeans=True)"
      ],
      "execution_count": null,
      "outputs": [
        {
          "output_type": "execute_result",
          "data": {
            "text/plain": [
              "<matplotlib.axes._subplots.AxesSubplot at 0x7f3d1d241bd0>"
            ]
          },
          "metadata": {},
          "execution_count": 43
        },
        {
          "output_type": "display_data",
          "data": {
            "image/png": "[encoded data removed]",
            "text/plain": [
              "<Figure size 720x576 with 1 Axes>"
            ]
          },
          "metadata": {
            "needs_background": "light"
          }
        }
      ]
    },
    {
      "cell_type": "code",
      "metadata": {
        "pycharm": {
          "name": "#%%\n"
        },
        "id": "q2ZLW_EHYJ5j",
        "colab": {
          "base_uri": "https://localhost:8080/"
        },
        "outputId": "0973db9e-be38-4ea3-af59-d0b67be7d25e"
      },
      "source": [
        "check_normal_kol(A, B, 'metric_value')\n",
        "check_normal_shapiro(A, B, 'metric_value')\n",
        "\n",
        "levene_test(A['metric_value'], B['metric_value'])\n",
        "\n",
        "st = mannwhitneyu(A.metric_value.unique(), B.metric_value.unique())\n",
        "print(st)\n",
        "print('Diffs is {}significant\\n'.format( {False:'not ',\n",
        "                                          True:''}[st[1] < alpha]))\n",
        "\n",
        "print('difference:', np.round(B.metric_value.mean() - A.metric_value.mean()))\n",
        "print(f'observed effect: {np.round(100 * (B.metric_value.mean() - A.metric_value.mean()) / A.metric_value.mean())} %')"
      ],
      "execution_count": null,
      "outputs": [
        {
          "output_type": "stream",
          "name": "stdout",
          "text": [
            "KstestResult(statistic=1.0, pvalue=0.0)\n",
            "Distribution of control group is not normal\n",
            "\n",
            "KstestResult(statistic=1.0, pvalue=0.0)\n",
            "Distribution of test group is not normal\n",
            "(0.9958456158638, 0.0017358018085360527)\n",
            "Distributions of control group is not normal\n",
            "\n",
            "(0.9931009411811829, 1.0515710528125055e-05)\n",
            "Distributions of test group is not normal\n",
            "Variances of distributions is equal\n",
            "\n",
            "MannwhitneyuResult(statistic=568116.0, pvalue=5.401536387296929e-09)\n",
            "Diffs is significant\n",
            "\n",
            "difference: 432.0\n",
            "observed effect: 7.0 %\n"
          ]
        }
      ]
    },
    {
      "cell_type": "markdown",
      "metadata": {
        "collapsed": false,
        "pycharm": {
          "name": "#%% md\n"
        },
        "id": "fipvCRrjYJ5j"
      },
      "source": [
        "Получил похожие результаты"
      ]
    },
    {
      "cell_type": "markdown",
      "metadata": {
        "collapsed": false,
        "pycharm": {
          "name": "#%% md\n"
        },
        "id": "dgAtdBqeYJ5j"
      },
      "source": [
        "### Посмотрим на агрегированные в рамках бакета метрики"
      ]
    },
    {
      "cell_type": "markdown",
      "metadata": {
        "collapsed": false,
        "pycharm": {
          "name": "#%% md\n"
        },
        "id": "lwJ0pwjGYJ5k"
      },
      "source": [
        "1. Кол-во отказов"
      ]
    },
    {
      "cell_type": "code",
      "metadata": {
        "pycharm": {
          "name": "#%%\n"
        },
        "id": "wxsgN2UaYJ5k"
      },
      "source": [
        "data_bucket.loc[:9, 'group'] = 'A'\n",
        "data_bucket.loc[9:, 'group'] = 'B'\n",
        "\n",
        "A = data_bucket[data_bucket['group'] == 'A']\n",
        "B = data_bucket[data_bucket['group'] == 'B']"
      ],
      "execution_count": null,
      "outputs": []
    },
    {
      "cell_type": "code",
      "metadata": {
        "pycharm": {
          "name": "#%%\n"
        },
        "id": "7gBnVX6JYJ5k",
        "colab": {
          "base_uri": "https://localhost:8080/",
          "height": 498
        },
        "outputId": "955af36d-e847-4052-cdec-b961cc74cd9d"
      },
      "source": [
        "show_hist(A, B, 'churn_users')"
      ],
      "execution_count": null,
      "outputs": [
        {
          "output_type": "display_data",
          "data": {
            "image/png": "[encoded data removed]",
            "text/plain": [
              "<Figure size 720x576 with 1 Axes>"
            ]
          },
          "metadata": {
            "needs_background": "light"
          }
        }
      ]
    },
    {
      "cell_type": "code",
      "metadata": {
        "pycharm": {
          "name": "#%%\n"
        },
        "id": "VnllVGkFYJ5l",
        "colab": {
          "base_uri": "https://localhost:8080/",
          "height": 517
        },
        "outputId": "5d57e21f-86d4-4fe5-a23d-4332a191f7d3"
      },
      "source": [
        "plt.figure(figsize=(10, 8))\n",
        "sns.boxplot(x='group', y='churn_users',\n",
        "            data=data_bucket, showmeans=True)"
      ],
      "execution_count": null,
      "outputs": [
        {
          "output_type": "execute_result",
          "data": {
            "text/plain": [
              "<matplotlib.axes._subplots.AxesSubplot at 0x7f3d1d062b10>"
            ]
          },
          "metadata": {},
          "execution_count": 47
        },
        {
          "output_type": "display_data",
          "data": {
            "image/png": "[encoded data removed]",
            "text/plain": [
              "<Figure size 720x576 with 1 Axes>"
            ]
          },
          "metadata": {
            "needs_background": "light"
          }
        }
      ]
    },
    {
      "cell_type": "code",
      "metadata": {
        "pycharm": {
          "name": "#%%\n"
        },
        "id": "BygSKhDLYJ5l",
        "colab": {
          "base_uri": "https://localhost:8080/"
        },
        "outputId": "1bc8a57e-a70e-44d8-a245-2e1e54e92917"
      },
      "source": [
        "check_normal_kol(A, B, 'churn_users')\n",
        "check_normal_shapiro(A, B, 'churn_users')"
      ],
      "execution_count": null,
      "outputs": [
        {
          "output_type": "stream",
          "name": "stdout",
          "text": [
            "KstestResult(statistic=1.0, pvalue=0.0)\n",
            "Distribution of control group is not normal\n",
            "\n",
            "KstestResult(statistic=1.0, pvalue=0.0)\n",
            "Distribution of test group is not normal\n",
            "(0.8086885213851929, 0.02564987540245056)\n",
            "Distributions of control group is not normal\n",
            "\n",
            "(0.8459286689758301, 0.11276251077651978)\n",
            "Distributions of test group is normal\n"
          ]
        }
      ]
    },
    {
      "cell_type": "markdown",
      "metadata": {
        "collapsed": false,
        "pycharm": {
          "name": "#%% md\n"
        },
        "id": "aHppGThCYJ5m"
      },
      "source": [
        "Тесты показали нормальность распределения, но если посмотреть на гистограммы, возникают сомнения по этому поводу.\n",
        " Поэтому также использовал непараметрический тест Манна-Уитни"
      ]
    },
    {
      "cell_type": "code",
      "metadata": {
        "pycharm": {
          "name": "#%%\n"
        },
        "id": "bOm2MrX_YJ5m",
        "colab": {
          "base_uri": "https://localhost:8080/"
        },
        "outputId": "a10ea789-8060-4266-c3ca-a956133c5c7c"
      },
      "source": [
        "levene_test(A['churn_users'], B['churn_users'])\n",
        "\n",
        "st = mannwhitneyu(A.churn_users.unique(), B.churn_users.unique())\n",
        "print(st)\n",
        "print('Diffs is {}significant\\n'.format( {False:'not ',\n",
        "                                          True:''}[st[1] < alpha]))"
      ],
      "execution_count": null,
      "outputs": [
        {
          "output_type": "stream",
          "name": "stdout",
          "text": [
            "Variances of distributions is equal\n",
            "\n",
            "MannwhitneyuResult(statistic=2.0, pvalue=0.0010714213704518028)\n",
            "Diffs is significant\n",
            "\n"
          ]
        }
      ]
    },
    {
      "cell_type": "code",
      "metadata": {
        "pycharm": {
          "name": "#%%\n"
        },
        "id": "Ffw4G5EHYJ5m",
        "colab": {
          "base_uri": "https://localhost:8080/"
        },
        "outputId": "68a1bf64-c9ab-4816-fa81-0209935d6002"
      },
      "source": [
        "t_st = ttest_ind(A.churn_users, B.churn_users)\n",
        "print(t_st)\n",
        "print('Diffs is {}significant\\n'.format( {False:'not ',\n",
        "                                          True:''}[t_st[1] < alpha]))"
      ],
      "execution_count": null,
      "outputs": [
        {
          "output_type": "stream",
          "name": "stdout",
          "text": [
            "Ttest_indResult(statistic=-6.3214510835450515, pvalue=1.8862865407437538e-05)\n",
            "Diffs is significant\n",
            "\n"
          ]
        }
      ]
    },
    {
      "cell_type": "markdown",
      "metadata": {
        "collapsed": false,
        "pycharm": {
          "name": "#%% md\n"
        },
        "id": "cUiaMHNuYJ5n"
      },
      "source": [
        "T тесть также выдал стат. значимость различий"
      ]
    },
    {
      "cell_type": "code",
      "metadata": {
        "pycharm": {
          "name": "#%%\n"
        },
        "id": "-xlxMlj7YJ5n",
        "colab": {
          "base_uri": "https://localhost:8080/"
        },
        "outputId": "1ec9e0c3-7848-4c44-8edb-76d38442e64e"
      },
      "source": [
        "print('difference:', np.round(B.churn_users.mean() - A.churn_users.mean()))\n",
        "print(f'observed effect: {np.round(100 * (B.churn_users.mean() - A.churn_users.mean()) / A.churn_users.mean())} %')"
      ],
      "execution_count": null,
      "outputs": [
        {
          "output_type": "stream",
          "name": "stdout",
          "text": [
            "difference: 88.0\n",
            "observed effect: 53.0 %\n"
          ]
        }
      ]
    },
    {
      "cell_type": "markdown",
      "metadata": {
        "collapsed": false,
        "pycharm": {
          "name": "#%% md\n"
        },
        "id": "mpazEblCYJ5n"
      },
      "source": [
        "Получили статистически значимое увеличение churn_users"
      ]
    },
    {
      "cell_type": "markdown",
      "metadata": {
        "collapsed": false,
        "pycharm": {
          "name": "#%% md\n"
        },
        "id": "WiF7tWFXYJ5o"
      },
      "source": [
        "2. Кол-во нецелевых сессий"
      ]
    },
    {
      "cell_type": "code",
      "metadata": {
        "pycharm": {
          "name": "#%%\n"
        },
        "id": "bMYnjW7hYJ5o",
        "colab": {
          "base_uri": "https://localhost:8080/",
          "height": 498
        },
        "outputId": "ecde3d41-1832-45d5-822e-a3da8e903b78"
      },
      "source": [
        "show_hist(A, B, 'churn_visits')"
      ],
      "execution_count": null,
      "outputs": [
        {
          "output_type": "display_data",
          "data": {
            "image/png": "[encoded data removed]",
            "text/plain": [
              "<Figure size 720x576 with 1 Axes>"
            ]
          },
          "metadata": {
            "needs_background": "light"
          }
        }
      ]
    },
    {
      "cell_type": "code",
      "metadata": {
        "pycharm": {
          "name": "#%%\n"
        },
        "id": "o9Inr2bkYJ5o",
        "colab": {
          "base_uri": "https://localhost:8080/",
          "height": 514
        },
        "outputId": "bfb6753d-0f8f-4ba7-f7e4-c1f106e3bb08"
      },
      "source": [
        "plt.figure(figsize=(10, 8))\n",
        "sns.boxplot(x='group', y='churn_visits',\n",
        "            data=data_bucket, showmeans=True)"
      ],
      "execution_count": null,
      "outputs": [
        {
          "output_type": "execute_result",
          "data": {
            "text/plain": [
              "<matplotlib.axes._subplots.AxesSubplot at 0x7f3d1ce6ea10>"
            ]
          },
          "metadata": {},
          "execution_count": 53
        },
        {
          "output_type": "display_data",
          "data": {
            "image/png": "[encoded data removed]",
            "text/plain": [
              "<Figure size 720x576 with 1 Axes>"
            ]
          },
          "metadata": {
            "needs_background": "light"
          }
        }
      ]
    },
    {
      "cell_type": "code",
      "metadata": {
        "pycharm": {
          "name": "#%%\n"
        },
        "id": "-9HBsUczYJ5p",
        "colab": {
          "base_uri": "https://localhost:8080/"
        },
        "outputId": "261759d8-452d-4ed4-c458-f11d0eb3ee6d"
      },
      "source": [
        "check_normal_kol(A, B, 'churn_visits')\n",
        "check_normal_shapiro(A, B, 'churn_visits')\n",
        "\n",
        "levene_test(A['churn_visits'], B['churn_visits'])\n",
        "\n",
        "st = mannwhitneyu(A.churn_visits.unique(), B.churn_visits.unique())\n",
        "print(st)\n",
        "print('Diffs is {}significant\\n'.format( {False:'not ',\n",
        "                                          True:''}[st[1] < alpha]))"
      ],
      "execution_count": null,
      "outputs": [
        {
          "output_type": "stream",
          "name": "stdout",
          "text": [
            "KstestResult(statistic=1.0, pvalue=0.0)\n",
            "Distribution of control group is not normal\n",
            "\n",
            "KstestResult(statistic=1.0, pvalue=0.0)\n",
            "Distribution of test group is not normal\n",
            "(0.931236982345581, 0.49321380257606506)\n",
            "Distributions of control group is normal\n",
            "\n",
            "(0.9275419116020203, 0.5301929712295532)\n",
            "Distributions of test group is normal\n",
            "Variances of distributions is equal\n",
            "\n",
            "MannwhitneyuResult(statistic=20.0, pvalue=0.12213837191163296)\n",
            "Diffs is not significant\n",
            "\n"
          ]
        }
      ]
    },
    {
      "cell_type": "code",
      "metadata": {
        "pycharm": {
          "name": "#%%\n"
        },
        "id": "qh55vQguYJ5p",
        "colab": {
          "base_uri": "https://localhost:8080/"
        },
        "outputId": "0c7b467d-f78a-47cb-b580-cf2aaef6cc10"
      },
      "source": [
        "t_st = ttest_ind(A.churn_visits, B.churn_visits)\n",
        "print(t_st)\n",
        "print('Diffs is {}significant\\n'.format({False: 'not ',\n",
        "                                         True: ''}[t_st[1] < alpha]))"
      ],
      "execution_count": null,
      "outputs": [
        {
          "output_type": "stream",
          "name": "stdout",
          "text": [
            "Ttest_indResult(statistic=-1.2834338805088847, pvalue=0.22017797308896006)\n",
            "Diffs is not significant\n",
            "\n"
          ]
        }
      ]
    },
    {
      "cell_type": "markdown",
      "metadata": {
        "collapsed": false,
        "pycharm": {
          "name": "#%% md\n"
        },
        "id": "uHWIr3z2YJ5q"
      },
      "source": [
        "Различия для churn_visits не стат. значимы"
      ]
    },
    {
      "cell_type": "markdown",
      "metadata": {
        "collapsed": false,
        "pycharm": {
          "name": "#%% md\n"
        },
        "id": "x01bQ76OYJ5q"
      },
      "source": [
        "Итак:\n",
        "* Была замечена неоднозначность данных и даны предполагаемые причины\n",
        "* Проведен тест для metric_value на пользователя.\n",
        "    Получен статически значимый прирост в среднем на 7% (на 433)\n",
        "* Оценены необходимый размер выборки для получения стат. значимых различий и кол-во дней необходимых для этого:  \n",
        "  сейчас A: 2451, B: 2549  \n",
        "  effect 7%  \n",
        "      Нужно набрать: 3205 человек для каждой группы  \n",
        "      Для контрольной нужно набрать еще: 754  \n",
        "      Для экспериментальной нужно набрать еще: 656  \n",
        "      Для нового набора понадобится 18 дней  \n",
        "      Для  донабора понадобится 3 дней  \n",
        "  effect 8%  \n",
        "      Нужно набрать: 2454 человек для каждой группы  \n",
        "      Для контрольной нужно набрать еще: 3  \n",
        "      Для нового набора понадобится 14 дней  \n",
        "      Для  донабора понадобится 1 дней  \n",
        "  effect 10%  \n",
        "      Нужно набрать: 1571 человек для каждой группы  \n",
        "      Для нового набора понадобится 9 дней  \n",
        "* Проведен тест для churn_users и churn_visits на группу  \n",
        "  Получили статистически значимое увеличение на 57% количества пользователей, совершавших отказы.  \n",
        "  Кол-во нецелевых сессий не изменилось\n",
        "\n",
        "В итоге  \n",
        "1. из позитивных: увеличение среденего metric_value на пользователя на 7%\n",
        "2. из негативных: увеличение на 57% среднего кол-ва пользователей на группу, совершавших отказы\n"
      ]
    }
  ]
}