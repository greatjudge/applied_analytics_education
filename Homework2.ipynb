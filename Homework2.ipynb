{
 "cells": [
  {
   "cell_type": "code",
   "execution_count": 158,
   "metadata": {
    "collapsed": true
   },
   "outputs": [],
   "source": [
    "import numpy as np\n",
    "import pandas as pd\n",
    "import matplotlib.pyplot as plt\n",
    "import seaborn as sns\n",
    "\n",
    "from scipy.stats import norm, kstest, shapiro\n",
    "from scipy.stats import ttest_ind, mannwhitneyu"
   ]
  },
  {
   "cell_type": "code",
   "execution_count": 107,
   "outputs": [],
   "source": [
    "data_bucket = pd.read_csv('hw_abt_2_bybucket.csv', sep='\\t')\n",
    "data_user = pd.read_csv('hw_abt_2_byuser.csv', sep='\\t')"
   ],
   "metadata": {
    "collapsed": false,
    "pycharm": {
     "name": "#%%\n"
    }
   }
  },
  {
   "cell_type": "markdown",
   "source": [
    "###### Посмотрим на данные\n",
    "   * metric_value – сумма целевых действий пользователей в рамках bucket’а – например, просмотров рекламного баннера, телефона на сайте classified-сервиса или покупок в retail/FMCG;\n",
    "* users – кол-во пользователей, совершивших целевое действие,\n",
    "* visits – кол-во целевых сессий,\n",
    "* churn_users и churn_visits – кол-во пользователей в рамках bucket’а, отказавшихся сделать заказ, и сессий, не закончившихся успешным целевым действием"
   ],
   "metadata": {
    "collapsed": false,
    "pycharm": {
     "name": "#%% md\n"
    }
   }
  },
  {
   "cell_type": "code",
   "execution_count": 109,
   "outputs": [
    {
     "data": {
      "text/plain": "   Unnamed: 0  group_id  metric_value  users  visits  churn_users  \\\n0           0         8      6630.000      0       0            0   \n1           1        13      6933.976      0       0            1   \n2           2        10      8261.976      1      10            1   \n3           3         4      5522.000      1       9            1   \n4           4        16      5075.976      1       6            0   \n\n   churn_visits group  \n0             8     A  \n1             6     B  \n2             8     B  \n3             7     A  \n4             8     B  ",
      "text/html": "<div>\n<style scoped>\n    .dataframe tbody tr th:only-of-type {\n        vertical-align: middle;\n    }\n\n    .dataframe tbody tr th {\n        vertical-align: top;\n    }\n\n    .dataframe thead th {\n        text-align: right;\n    }\n</style>\n<table border=\"1\" class=\"dataframe\">\n  <thead>\n    <tr style=\"text-align: right;\">\n      <th></th>\n      <th>Unnamed: 0</th>\n      <th>group_id</th>\n      <th>metric_value</th>\n      <th>users</th>\n      <th>visits</th>\n      <th>churn_users</th>\n      <th>churn_visits</th>\n      <th>group</th>\n    </tr>\n  </thead>\n  <tbody>\n    <tr>\n      <th>0</th>\n      <td>0</td>\n      <td>8</td>\n      <td>6630.000</td>\n      <td>0</td>\n      <td>0</td>\n      <td>0</td>\n      <td>8</td>\n      <td>A</td>\n    </tr>\n    <tr>\n      <th>1</th>\n      <td>1</td>\n      <td>13</td>\n      <td>6933.976</td>\n      <td>0</td>\n      <td>0</td>\n      <td>1</td>\n      <td>6</td>\n      <td>B</td>\n    </tr>\n    <tr>\n      <th>2</th>\n      <td>2</td>\n      <td>10</td>\n      <td>8261.976</td>\n      <td>1</td>\n      <td>10</td>\n      <td>1</td>\n      <td>8</td>\n      <td>B</td>\n    </tr>\n    <tr>\n      <th>3</th>\n      <td>3</td>\n      <td>4</td>\n      <td>5522.000</td>\n      <td>1</td>\n      <td>9</td>\n      <td>1</td>\n      <td>7</td>\n      <td>A</td>\n    </tr>\n    <tr>\n      <th>4</th>\n      <td>4</td>\n      <td>16</td>\n      <td>5075.976</td>\n      <td>1</td>\n      <td>6</td>\n      <td>0</td>\n      <td>8</td>\n      <td>B</td>\n    </tr>\n  </tbody>\n</table>\n</div>"
     },
     "execution_count": 109,
     "metadata": {},
     "output_type": "execute_result"
    }
   ],
   "source": [
    "data_user.head()"
   ],
   "metadata": {
    "collapsed": false,
    "pycharm": {
     "name": "#%%\n"
    }
   }
  },
  {
   "cell_type": "code",
   "execution_count": 170,
   "outputs": [
    {
     "name": "stdout",
     "output_type": "stream",
     "text": [
      "unique users: 5000\n"
     ]
    }
   ],
   "source": [
    "print('unique users:', data_user['Unnamed: 0'].unique().shape[0])"
   ],
   "metadata": {
    "collapsed": false,
    "pycharm": {
     "name": "#%%\n"
    }
   }
  },
  {
   "cell_type": "code",
   "execution_count": 104,
   "outputs": [
    {
     "data": {
      "text/plain": "      Unnamed: 0                                                         \\\n           count         mean          std  min     25%     50%     75%   \ngroup                                                                     \nA         2451.0  2513.987760  1442.223383  0.0  1260.5  2513.0  3754.5   \nB         2549.0  2485.569243  1444.911607  1.0  1242.0  2486.0  3743.0   \n\n              group_id             ... churn_users      churn_visits  \\\n          max    count       mean  ...         75%  max        count   \ngroup                              ...                                 \nA      4999.0   2451.0   4.552836  ...         1.0  1.0       2451.0   \nB      4998.0   2549.0  12.488035  ...         1.0  1.0       2549.0   \n\n                                                    \n           mean       std  min  25%  50%  75%  max  \ngroup                                               \nA      6.929417  1.944200  0.0  6.0  7.0  9.0  9.0  \nB      6.980384  1.930404  0.0  6.0  7.0  9.0  9.0  \n\n[2 rows x 56 columns]",
      "text/html": "<div>\n<style scoped>\n    .dataframe tbody tr th:only-of-type {\n        vertical-align: middle;\n    }\n\n    .dataframe tbody tr th {\n        vertical-align: top;\n    }\n\n    .dataframe thead tr th {\n        text-align: left;\n    }\n\n    .dataframe thead tr:last-of-type th {\n        text-align: right;\n    }\n</style>\n<table border=\"1\" class=\"dataframe\">\n  <thead>\n    <tr>\n      <th></th>\n      <th colspan=\"8\" halign=\"left\">Unnamed: 0</th>\n      <th colspan=\"2\" halign=\"left\">group_id</th>\n      <th>...</th>\n      <th colspan=\"2\" halign=\"left\">churn_users</th>\n      <th colspan=\"8\" halign=\"left\">churn_visits</th>\n    </tr>\n    <tr>\n      <th></th>\n      <th>count</th>\n      <th>mean</th>\n      <th>std</th>\n      <th>min</th>\n      <th>25%</th>\n      <th>50%</th>\n      <th>75%</th>\n      <th>max</th>\n      <th>count</th>\n      <th>mean</th>\n      <th>...</th>\n      <th>75%</th>\n      <th>max</th>\n      <th>count</th>\n      <th>mean</th>\n      <th>std</th>\n      <th>min</th>\n      <th>25%</th>\n      <th>50%</th>\n      <th>75%</th>\n      <th>max</th>\n    </tr>\n    <tr>\n      <th>group</th>\n      <th></th>\n      <th></th>\n      <th></th>\n      <th></th>\n      <th></th>\n      <th></th>\n      <th></th>\n      <th></th>\n      <th></th>\n      <th></th>\n      <th></th>\n      <th></th>\n      <th></th>\n      <th></th>\n      <th></th>\n      <th></th>\n      <th></th>\n      <th></th>\n      <th></th>\n      <th></th>\n      <th></th>\n    </tr>\n  </thead>\n  <tbody>\n    <tr>\n      <th>A</th>\n      <td>2451.0</td>\n      <td>2513.987760</td>\n      <td>1442.223383</td>\n      <td>0.0</td>\n      <td>1260.5</td>\n      <td>2513.0</td>\n      <td>3754.5</td>\n      <td>4999.0</td>\n      <td>2451.0</td>\n      <td>4.552836</td>\n      <td>...</td>\n      <td>1.0</td>\n      <td>1.0</td>\n      <td>2451.0</td>\n      <td>6.929417</td>\n      <td>1.944200</td>\n      <td>0.0</td>\n      <td>6.0</td>\n      <td>7.0</td>\n      <td>9.0</td>\n      <td>9.0</td>\n    </tr>\n    <tr>\n      <th>B</th>\n      <td>2549.0</td>\n      <td>2485.569243</td>\n      <td>1444.911607</td>\n      <td>1.0</td>\n      <td>1242.0</td>\n      <td>2486.0</td>\n      <td>3743.0</td>\n      <td>4998.0</td>\n      <td>2549.0</td>\n      <td>12.488035</td>\n      <td>...</td>\n      <td>1.0</td>\n      <td>1.0</td>\n      <td>2549.0</td>\n      <td>6.980384</td>\n      <td>1.930404</td>\n      <td>0.0</td>\n      <td>6.0</td>\n      <td>7.0</td>\n      <td>9.0</td>\n      <td>9.0</td>\n    </tr>\n  </tbody>\n</table>\n<p>2 rows × 56 columns</p>\n</div>"
     },
     "execution_count": 104,
     "metadata": {},
     "output_type": "execute_result"
    }
   ],
   "source": [
    "data_user.groupby('group').describe()"
   ],
   "metadata": {
    "collapsed": false,
    "pycharm": {
     "name": "#%%\n"
    }
   }
  },
  {
   "cell_type": "code",
   "execution_count": 111,
   "outputs": [
    {
     "data": {
      "text/plain": "      Unnamed: 0                                                            \\\n           count         mean          std   min      25%     50%      75%   \ngroup                                                                        \nA          621.0  2427.072464  1508.628688  13.0  1019.00  2383.0  3745.00   \nB         1026.0  2591.862573  1436.581671   1.0  1346.25  2646.5  3843.75   \n\n              group_id             ... churn_users      churn_visits  \\\n          max    count       mean  ...         75%  max        count   \ngroup                              ...                                 \nA      4999.0    621.0   4.478261  ...         1.0  1.0        621.0   \nB      4998.0   1026.0  12.520468  ...         1.0  1.0       1026.0   \n\n                                                    \n           mean       std  min  25%  50%  75%  max  \ngroup                                               \nA      6.961353  1.872153  1.0  6.0  7.0  9.0  9.0  \nB      6.905458  1.996052  0.0  6.0  7.0  9.0  9.0  \n\n[2 rows x 56 columns]",
      "text/html": "<div>\n<style scoped>\n    .dataframe tbody tr th:only-of-type {\n        vertical-align: middle;\n    }\n\n    .dataframe tbody tr th {\n        vertical-align: top;\n    }\n\n    .dataframe thead tr th {\n        text-align: left;\n    }\n\n    .dataframe thead tr:last-of-type th {\n        text-align: right;\n    }\n</style>\n<table border=\"1\" class=\"dataframe\">\n  <thead>\n    <tr>\n      <th></th>\n      <th colspan=\"8\" halign=\"left\">Unnamed: 0</th>\n      <th colspan=\"2\" halign=\"left\">group_id</th>\n      <th>...</th>\n      <th colspan=\"2\" halign=\"left\">churn_users</th>\n      <th colspan=\"8\" halign=\"left\">churn_visits</th>\n    </tr>\n    <tr>\n      <th></th>\n      <th>count</th>\n      <th>mean</th>\n      <th>std</th>\n      <th>min</th>\n      <th>25%</th>\n      <th>50%</th>\n      <th>75%</th>\n      <th>max</th>\n      <th>count</th>\n      <th>mean</th>\n      <th>...</th>\n      <th>75%</th>\n      <th>max</th>\n      <th>count</th>\n      <th>mean</th>\n      <th>std</th>\n      <th>min</th>\n      <th>25%</th>\n      <th>50%</th>\n      <th>75%</th>\n      <th>max</th>\n    </tr>\n    <tr>\n      <th>group</th>\n      <th></th>\n      <th></th>\n      <th></th>\n      <th></th>\n      <th></th>\n      <th></th>\n      <th></th>\n      <th></th>\n      <th></th>\n      <th></th>\n      <th></th>\n      <th></th>\n      <th></th>\n      <th></th>\n      <th></th>\n      <th></th>\n      <th></th>\n      <th></th>\n      <th></th>\n      <th></th>\n      <th></th>\n    </tr>\n  </thead>\n  <tbody>\n    <tr>\n      <th>A</th>\n      <td>621.0</td>\n      <td>2427.072464</td>\n      <td>1508.628688</td>\n      <td>13.0</td>\n      <td>1019.00</td>\n      <td>2383.0</td>\n      <td>3745.00</td>\n      <td>4999.0</td>\n      <td>621.0</td>\n      <td>4.478261</td>\n      <td>...</td>\n      <td>1.0</td>\n      <td>1.0</td>\n      <td>621.0</td>\n      <td>6.961353</td>\n      <td>1.872153</td>\n      <td>1.0</td>\n      <td>6.0</td>\n      <td>7.0</td>\n      <td>9.0</td>\n      <td>9.0</td>\n    </tr>\n    <tr>\n      <th>B</th>\n      <td>1026.0</td>\n      <td>2591.862573</td>\n      <td>1436.581671</td>\n      <td>1.0</td>\n      <td>1346.25</td>\n      <td>2646.5</td>\n      <td>3843.75</td>\n      <td>4998.0</td>\n      <td>1026.0</td>\n      <td>12.520468</td>\n      <td>...</td>\n      <td>1.0</td>\n      <td>1.0</td>\n      <td>1026.0</td>\n      <td>6.905458</td>\n      <td>1.996052</td>\n      <td>0.0</td>\n      <td>6.0</td>\n      <td>7.0</td>\n      <td>9.0</td>\n      <td>9.0</td>\n    </tr>\n  </tbody>\n</table>\n<p>2 rows × 56 columns</p>\n</div>"
     },
     "execution_count": 111,
     "metadata": {},
     "output_type": "execute_result"
    }
   ],
   "source": [
    "data_user[(data_user['churn_users'] > 0) & (data_user['users'] == 0)].groupby('group').describe()"
   ],
   "metadata": {
    "collapsed": false,
    "pycharm": {
     "name": "#%%\n"
    }
   }
  },
  {
   "cell_type": "markdown",
   "source": [
    "##### 1. visits = 0, users = 0, но metric_value > 0\n",
    "Возможно:\n",
    " * 1. совершил ц.д. во время эксперимента и metric_value зафиксировалось, но запись в user и visits произошла после эксперимента.\n",
    "  Например сделал заказ, оплатил (при этом users и visits устанавливаются в 1 после получения товара), но получил после эксперимента.\n",
    " * 2. Или же совершил возврат во время эксперимента, но в metric_value это не учитывалось, что указывает на неправильную работу по подсчету metric_value. Тогда churn_users = 1\n",
    "\n",
    "Если верно 2., то нужно ли учитывать таких пользователей при проведении теста для metric_value?"
   ],
   "metadata": {
    "collapsed": false,
    "pycharm": {
     "name": "#%% md\n"
    }
   }
  },
  {
   "cell_type": "code",
   "execution_count": 134,
   "outputs": [
    {
     "data": {
      "text/plain": "   Unnamed: 0  group_id  metric_value  users  visits  churn_users  \\\n0           0         8      6630.000      0       0            0   \n1           1        13      6933.976      0       0            1   \n5           5         2      8539.000      0       0            0   \n6           6         8      5714.000      0       0            0   \n7           7         3      7330.000      0       0            0   \n\n   churn_visits group  \n0             8     A  \n1             6     B  \n5             8     A  \n6             7     A  \n7             6     A  ",
      "text/html": "<div>\n<style scoped>\n    .dataframe tbody tr th:only-of-type {\n        vertical-align: middle;\n    }\n\n    .dataframe tbody tr th {\n        vertical-align: top;\n    }\n\n    .dataframe thead th {\n        text-align: right;\n    }\n</style>\n<table border=\"1\" class=\"dataframe\">\n  <thead>\n    <tr style=\"text-align: right;\">\n      <th></th>\n      <th>Unnamed: 0</th>\n      <th>group_id</th>\n      <th>metric_value</th>\n      <th>users</th>\n      <th>visits</th>\n      <th>churn_users</th>\n      <th>churn_visits</th>\n      <th>group</th>\n    </tr>\n  </thead>\n  <tbody>\n    <tr>\n      <th>0</th>\n      <td>0</td>\n      <td>8</td>\n      <td>6630.000</td>\n      <td>0</td>\n      <td>0</td>\n      <td>0</td>\n      <td>8</td>\n      <td>A</td>\n    </tr>\n    <tr>\n      <th>1</th>\n      <td>1</td>\n      <td>13</td>\n      <td>6933.976</td>\n      <td>0</td>\n      <td>0</td>\n      <td>1</td>\n      <td>6</td>\n      <td>B</td>\n    </tr>\n    <tr>\n      <th>5</th>\n      <td>5</td>\n      <td>2</td>\n      <td>8539.000</td>\n      <td>0</td>\n      <td>0</td>\n      <td>0</td>\n      <td>8</td>\n      <td>A</td>\n    </tr>\n    <tr>\n      <th>6</th>\n      <td>6</td>\n      <td>8</td>\n      <td>5714.000</td>\n      <td>0</td>\n      <td>0</td>\n      <td>0</td>\n      <td>7</td>\n      <td>A</td>\n    </tr>\n    <tr>\n      <th>7</th>\n      <td>7</td>\n      <td>3</td>\n      <td>7330.000</td>\n      <td>0</td>\n      <td>0</td>\n      <td>0</td>\n      <td>6</td>\n      <td>A</td>\n    </tr>\n  </tbody>\n</table>\n</div>"
     },
     "execution_count": 134,
     "metadata": {},
     "output_type": "execute_result"
    }
   ],
   "source": [
    "data_user[(data_user['visits'] == 0) & (data_user['users'] == 0)].head()"
   ],
   "metadata": {
    "collapsed": false,
    "pycharm": {
     "name": "#%%\n"
    }
   }
  },
  {
   "cell_type": "code",
   "execution_count": 136,
   "outputs": [
    {
     "name": "stdout",
     "output_type": "stream",
     "text": [
      "(1647, 8)\n"
     ]
    },
    {
     "data": {
      "text/plain": "    Unnamed: 0  group_id  metric_value  users  visits  churn_users  \\\n1            1        13      6933.976      0       0            1   \n12          12        13      6812.976      0       0            1   \n13          13         1      6057.000      0       0            1   \n15          15         3      9056.000      0       0            1   \n17          17         9      7309.976      0       0            1   \n\n    churn_visits group  \n1              6     B  \n12             8     B  \n13             6     A  \n15             5     A  \n17             8     B  ",
      "text/html": "<div>\n<style scoped>\n    .dataframe tbody tr th:only-of-type {\n        vertical-align: middle;\n    }\n\n    .dataframe tbody tr th {\n        vertical-align: top;\n    }\n\n    .dataframe thead th {\n        text-align: right;\n    }\n</style>\n<table border=\"1\" class=\"dataframe\">\n  <thead>\n    <tr style=\"text-align: right;\">\n      <th></th>\n      <th>Unnamed: 0</th>\n      <th>group_id</th>\n      <th>metric_value</th>\n      <th>users</th>\n      <th>visits</th>\n      <th>churn_users</th>\n      <th>churn_visits</th>\n      <th>group</th>\n    </tr>\n  </thead>\n  <tbody>\n    <tr>\n      <th>1</th>\n      <td>1</td>\n      <td>13</td>\n      <td>6933.976</td>\n      <td>0</td>\n      <td>0</td>\n      <td>1</td>\n      <td>6</td>\n      <td>B</td>\n    </tr>\n    <tr>\n      <th>12</th>\n      <td>12</td>\n      <td>13</td>\n      <td>6812.976</td>\n      <td>0</td>\n      <td>0</td>\n      <td>1</td>\n      <td>8</td>\n      <td>B</td>\n    </tr>\n    <tr>\n      <th>13</th>\n      <td>13</td>\n      <td>1</td>\n      <td>6057.000</td>\n      <td>0</td>\n      <td>0</td>\n      <td>1</td>\n      <td>6</td>\n      <td>A</td>\n    </tr>\n    <tr>\n      <th>15</th>\n      <td>15</td>\n      <td>3</td>\n      <td>9056.000</td>\n      <td>0</td>\n      <td>0</td>\n      <td>1</td>\n      <td>5</td>\n      <td>A</td>\n    </tr>\n    <tr>\n      <th>17</th>\n      <td>17</td>\n      <td>9</td>\n      <td>7309.976</td>\n      <td>0</td>\n      <td>0</td>\n      <td>1</td>\n      <td>8</td>\n      <td>B</td>\n    </tr>\n  </tbody>\n</table>\n</div>"
     },
     "execution_count": 136,
     "metadata": {},
     "output_type": "execute_result"
    }
   ],
   "source": [
    "d = data_user[(data_user['visits'] == 0) & (data_user['users'] == 0) & (data_user['churn_users'] == 1)]\n",
    "print(d.shape)\n",
    "d.head()"
   ],
   "metadata": {
    "collapsed": false,
    "pycharm": {
     "name": "#%%\n"
    }
   }
  },
  {
   "cell_type": "markdown",
   "source": [
    "##### 2. users = 1 и churn_users = 1\n",
    "   Для одного и того же пользователя, это можно интерпретировать следующим образом:\n",
    "    у пользователя был минимум 1 успешный заказ в рамках периода эксперимента, но так же были и визиты/заходы в приложение, при которых он заказ не сделал;\n"
   ],
   "metadata": {
    "collapsed": false,
    "pycharm": {
     "name": "#%% md\n"
    }
   }
  },
  {
   "cell_type": "code",
   "execution_count": 137,
   "outputs": [
    {
     "data": {
      "text/plain": "    Unnamed: 0  group_id  metric_value  users  visits  churn_users  \\\n2            2        10      8261.976      1      10            1   \n3            3         4      5522.000      1       9            1   \n8            8         2      6759.000      1       4            1   \n16          16         1      7227.000      1      12            1   \n18          18        12      7254.976      1      22            1   \n\n    churn_visits group  \n2              8     B  \n3              7     A  \n8              7     A  \n16             7     A  \n18             6     B  ",
      "text/html": "<div>\n<style scoped>\n    .dataframe tbody tr th:only-of-type {\n        vertical-align: middle;\n    }\n\n    .dataframe tbody tr th {\n        vertical-align: top;\n    }\n\n    .dataframe thead th {\n        text-align: right;\n    }\n</style>\n<table border=\"1\" class=\"dataframe\">\n  <thead>\n    <tr style=\"text-align: right;\">\n      <th></th>\n      <th>Unnamed: 0</th>\n      <th>group_id</th>\n      <th>metric_value</th>\n      <th>users</th>\n      <th>visits</th>\n      <th>churn_users</th>\n      <th>churn_visits</th>\n      <th>group</th>\n    </tr>\n  </thead>\n  <tbody>\n    <tr>\n      <th>2</th>\n      <td>2</td>\n      <td>10</td>\n      <td>8261.976</td>\n      <td>1</td>\n      <td>10</td>\n      <td>1</td>\n      <td>8</td>\n      <td>B</td>\n    </tr>\n    <tr>\n      <th>3</th>\n      <td>3</td>\n      <td>4</td>\n      <td>5522.000</td>\n      <td>1</td>\n      <td>9</td>\n      <td>1</td>\n      <td>7</td>\n      <td>A</td>\n    </tr>\n    <tr>\n      <th>8</th>\n      <td>8</td>\n      <td>2</td>\n      <td>6759.000</td>\n      <td>1</td>\n      <td>4</td>\n      <td>1</td>\n      <td>7</td>\n      <td>A</td>\n    </tr>\n    <tr>\n      <th>16</th>\n      <td>16</td>\n      <td>1</td>\n      <td>7227.000</td>\n      <td>1</td>\n      <td>12</td>\n      <td>1</td>\n      <td>7</td>\n      <td>A</td>\n    </tr>\n    <tr>\n      <th>18</th>\n      <td>18</td>\n      <td>12</td>\n      <td>7254.976</td>\n      <td>1</td>\n      <td>22</td>\n      <td>1</td>\n      <td>6</td>\n      <td>B</td>\n    </tr>\n  </tbody>\n</table>\n</div>"
     },
     "execution_count": 137,
     "metadata": {},
     "output_type": "execute_result"
    }
   ],
   "source": [
    "data_user[(data_user['users'] == 1) & (data_user['churn_users'] == 1)].head()"
   ],
   "metadata": {
    "collapsed": false,
    "pycharm": {
     "name": "#%%\n"
    }
   }
  },
  {
   "cell_type": "markdown",
   "source": [
    "##### 2. visits = 0, но users = 1\n",
    "пользователь совершил целевое действие,\n",
    " но отметки о том, что у него была сессия, окончившаяся этим самым действием, нет.\n",
    "Возможно потому, что он совершил ц.д., но сессия по каким-то причинам осталась открытой."
   ],
   "metadata": {
    "collapsed": false,
    "pycharm": {
     "name": "#%% md\n"
    }
   }
  },
  {
   "cell_type": "code",
   "execution_count": 144,
   "outputs": [
    {
     "data": {
      "text/plain": "      Unnamed: 0  group_id  metric_value  users  visits  churn_users  \\\n27            27        15      5181.976      1       0            0   \n53            53         2      5989.000      1       0            1   \n71            71         8      8102.000      1       0            0   \n89            89        16      7727.976      1       0            1   \n161          161         5      8057.000      1       0            0   \n...          ...       ...           ...    ...     ...          ...   \n4915        4915         8      7650.000      1       0            1   \n4924        4924         8      5538.000      1       0            0   \n4960        4960        11      7034.976      1       0            1   \n4968        4968         2      7295.000      1       0            0   \n4972        4972         7      7320.000      1       0            1   \n\n      churn_visits group  \n27               9     B  \n53               6     A  \n71               5     A  \n89               5     B  \n161              6     A  \n...            ...   ...  \n4915             7     A  \n4924             9     A  \n4960             7     B  \n4968             9     A  \n4972             2     A  \n\n[217 rows x 8 columns]",
      "text/html": "<div>\n<style scoped>\n    .dataframe tbody tr th:only-of-type {\n        vertical-align: middle;\n    }\n\n    .dataframe tbody tr th {\n        vertical-align: top;\n    }\n\n    .dataframe thead th {\n        text-align: right;\n    }\n</style>\n<table border=\"1\" class=\"dataframe\">\n  <thead>\n    <tr style=\"text-align: right;\">\n      <th></th>\n      <th>Unnamed: 0</th>\n      <th>group_id</th>\n      <th>metric_value</th>\n      <th>users</th>\n      <th>visits</th>\n      <th>churn_users</th>\n      <th>churn_visits</th>\n      <th>group</th>\n    </tr>\n  </thead>\n  <tbody>\n    <tr>\n      <th>27</th>\n      <td>27</td>\n      <td>15</td>\n      <td>5181.976</td>\n      <td>1</td>\n      <td>0</td>\n      <td>0</td>\n      <td>9</td>\n      <td>B</td>\n    </tr>\n    <tr>\n      <th>53</th>\n      <td>53</td>\n      <td>2</td>\n      <td>5989.000</td>\n      <td>1</td>\n      <td>0</td>\n      <td>1</td>\n      <td>6</td>\n      <td>A</td>\n    </tr>\n    <tr>\n      <th>71</th>\n      <td>71</td>\n      <td>8</td>\n      <td>8102.000</td>\n      <td>1</td>\n      <td>0</td>\n      <td>0</td>\n      <td>5</td>\n      <td>A</td>\n    </tr>\n    <tr>\n      <th>89</th>\n      <td>89</td>\n      <td>16</td>\n      <td>7727.976</td>\n      <td>1</td>\n      <td>0</td>\n      <td>1</td>\n      <td>5</td>\n      <td>B</td>\n    </tr>\n    <tr>\n      <th>161</th>\n      <td>161</td>\n      <td>5</td>\n      <td>8057.000</td>\n      <td>1</td>\n      <td>0</td>\n      <td>0</td>\n      <td>6</td>\n      <td>A</td>\n    </tr>\n    <tr>\n      <th>...</th>\n      <td>...</td>\n      <td>...</td>\n      <td>...</td>\n      <td>...</td>\n      <td>...</td>\n      <td>...</td>\n      <td>...</td>\n      <td>...</td>\n    </tr>\n    <tr>\n      <th>4915</th>\n      <td>4915</td>\n      <td>8</td>\n      <td>7650.000</td>\n      <td>1</td>\n      <td>0</td>\n      <td>1</td>\n      <td>7</td>\n      <td>A</td>\n    </tr>\n    <tr>\n      <th>4924</th>\n      <td>4924</td>\n      <td>8</td>\n      <td>5538.000</td>\n      <td>1</td>\n      <td>0</td>\n      <td>0</td>\n      <td>9</td>\n      <td>A</td>\n    </tr>\n    <tr>\n      <th>4960</th>\n      <td>4960</td>\n      <td>11</td>\n      <td>7034.976</td>\n      <td>1</td>\n      <td>0</td>\n      <td>1</td>\n      <td>7</td>\n      <td>B</td>\n    </tr>\n    <tr>\n      <th>4968</th>\n      <td>4968</td>\n      <td>2</td>\n      <td>7295.000</td>\n      <td>1</td>\n      <td>0</td>\n      <td>0</td>\n      <td>9</td>\n      <td>A</td>\n    </tr>\n    <tr>\n      <th>4972</th>\n      <td>4972</td>\n      <td>7</td>\n      <td>7320.000</td>\n      <td>1</td>\n      <td>0</td>\n      <td>1</td>\n      <td>2</td>\n      <td>A</td>\n    </tr>\n  </tbody>\n</table>\n<p>217 rows × 8 columns</p>\n</div>"
     },
     "execution_count": 144,
     "metadata": {},
     "output_type": "execute_result"
    }
   ],
   "source": [
    "data_user[(data_user['visits'] == 0) & (data_user['users'] > 0)]"
   ],
   "metadata": {
    "collapsed": false,
    "pycharm": {
     "name": "#%%\n"
    }
   }
  },
  {
   "cell_type": "markdown",
   "source": [
    "##### 3. churn_visits = 0, но churn_users = 1\n",
    " т.е. пользователь отменил заказ, но при этом сессия не учтена как не закончившаяся успешным целевым действием.\n",
    "  * Возможно потому, что в рамках одной сессии он мог отказаться, но затем совершить заказ (ц.д.), поэтому сессия не учтена как незакончившаяся цд-ем.\n",
    "  * В двух последних строках, возможно, создал аккаунт и удалил"
   ],
   "metadata": {
    "collapsed": false,
    "pycharm": {
     "name": "#%% md\n"
    }
   }
  },
  {
   "cell_type": "code",
   "execution_count": 133,
   "outputs": [
    {
     "data": {
      "text/plain": "      Unnamed: 0  group_id  metric_value  users  visits  churn_users  \\\n514          514         7      5413.000      1       0            1   \n1004        1004        15      6687.976      1       1            1   \n1765        1765         1      6097.000      1       3            1   \n2153        2153        11      4508.976      0       0            1   \n4700        4700        11      5684.976      0       0            1   \n\n      churn_visits group  \n514              0     A  \n1004             0     B  \n1765             0     A  \n2153             0     B  \n4700             0     B  ",
      "text/html": "<div>\n<style scoped>\n    .dataframe tbody tr th:only-of-type {\n        vertical-align: middle;\n    }\n\n    .dataframe tbody tr th {\n        vertical-align: top;\n    }\n\n    .dataframe thead th {\n        text-align: right;\n    }\n</style>\n<table border=\"1\" class=\"dataframe\">\n  <thead>\n    <tr style=\"text-align: right;\">\n      <th></th>\n      <th>Unnamed: 0</th>\n      <th>group_id</th>\n      <th>metric_value</th>\n      <th>users</th>\n      <th>visits</th>\n      <th>churn_users</th>\n      <th>churn_visits</th>\n      <th>group</th>\n    </tr>\n  </thead>\n  <tbody>\n    <tr>\n      <th>514</th>\n      <td>514</td>\n      <td>7</td>\n      <td>5413.000</td>\n      <td>1</td>\n      <td>0</td>\n      <td>1</td>\n      <td>0</td>\n      <td>A</td>\n    </tr>\n    <tr>\n      <th>1004</th>\n      <td>1004</td>\n      <td>15</td>\n      <td>6687.976</td>\n      <td>1</td>\n      <td>1</td>\n      <td>1</td>\n      <td>0</td>\n      <td>B</td>\n    </tr>\n    <tr>\n      <th>1765</th>\n      <td>1765</td>\n      <td>1</td>\n      <td>6097.000</td>\n      <td>1</td>\n      <td>3</td>\n      <td>1</td>\n      <td>0</td>\n      <td>A</td>\n    </tr>\n    <tr>\n      <th>2153</th>\n      <td>2153</td>\n      <td>11</td>\n      <td>4508.976</td>\n      <td>0</td>\n      <td>0</td>\n      <td>1</td>\n      <td>0</td>\n      <td>B</td>\n    </tr>\n    <tr>\n      <th>4700</th>\n      <td>4700</td>\n      <td>11</td>\n      <td>5684.976</td>\n      <td>0</td>\n      <td>0</td>\n      <td>1</td>\n      <td>0</td>\n      <td>B</td>\n    </tr>\n  </tbody>\n</table>\n</div>"
     },
     "execution_count": 133,
     "metadata": {},
     "output_type": "execute_result"
    }
   ],
   "source": [
    "data_user[(data_user['churn_visits'] == 0) & (data_user['churn_users'] > 0)]"
   ],
   "metadata": {
    "collapsed": false,
    "pycharm": {
     "name": "#%%\n"
    }
   }
  },
  {
   "cell_type": "markdown",
   "source": [
    "##### 4. churn_visits > 0, но churn_users = 0?\n",
    "  Мог заходить на \"сайт\" и ничего не делать (users=0, visits=0) или делать без отказов (users=1, visits>=0)."
   ],
   "metadata": {
    "collapsed": false,
    "pycharm": {
     "name": "#%% md\n"
    }
   }
  },
  {
   "cell_type": "code",
   "execution_count": 145,
   "outputs": [
    {
     "data": {
      "text/plain": "   Unnamed: 0  group_id  metric_value  users  visits  churn_users  \\\n0           0         8      6630.000      0       0            0   \n4           4        16      5075.976      1       6            0   \n5           5         2      8539.000      0       0            0   \n6           6         8      5714.000      0       0            0   \n7           7         3      7330.000      0       0            0   \n\n   churn_visits group  \n0             8     A  \n4             8     B  \n5             8     A  \n6             7     A  \n7             6     A  ",
      "text/html": "<div>\n<style scoped>\n    .dataframe tbody tr th:only-of-type {\n        vertical-align: middle;\n    }\n\n    .dataframe tbody tr th {\n        vertical-align: top;\n    }\n\n    .dataframe thead th {\n        text-align: right;\n    }\n</style>\n<table border=\"1\" class=\"dataframe\">\n  <thead>\n    <tr style=\"text-align: right;\">\n      <th></th>\n      <th>Unnamed: 0</th>\n      <th>group_id</th>\n      <th>metric_value</th>\n      <th>users</th>\n      <th>visits</th>\n      <th>churn_users</th>\n      <th>churn_visits</th>\n      <th>group</th>\n    </tr>\n  </thead>\n  <tbody>\n    <tr>\n      <th>0</th>\n      <td>0</td>\n      <td>8</td>\n      <td>6630.000</td>\n      <td>0</td>\n      <td>0</td>\n      <td>0</td>\n      <td>8</td>\n      <td>A</td>\n    </tr>\n    <tr>\n      <th>4</th>\n      <td>4</td>\n      <td>16</td>\n      <td>5075.976</td>\n      <td>1</td>\n      <td>6</td>\n      <td>0</td>\n      <td>8</td>\n      <td>B</td>\n    </tr>\n    <tr>\n      <th>5</th>\n      <td>5</td>\n      <td>2</td>\n      <td>8539.000</td>\n      <td>0</td>\n      <td>0</td>\n      <td>0</td>\n      <td>8</td>\n      <td>A</td>\n    </tr>\n    <tr>\n      <th>6</th>\n      <td>6</td>\n      <td>8</td>\n      <td>5714.000</td>\n      <td>0</td>\n      <td>0</td>\n      <td>0</td>\n      <td>7</td>\n      <td>A</td>\n    </tr>\n    <tr>\n      <th>7</th>\n      <td>7</td>\n      <td>3</td>\n      <td>7330.000</td>\n      <td>0</td>\n      <td>0</td>\n      <td>0</td>\n      <td>6</td>\n      <td>A</td>\n    </tr>\n  </tbody>\n</table>\n</div>"
     },
     "execution_count": 145,
     "metadata": {},
     "output_type": "execute_result"
    }
   ],
   "source": [
    "data_user[(data_user['churn_visits'] > 0) & (data_user['churn_users'] == 0)].head()"
   ],
   "metadata": {
    "collapsed": false,
    "pycharm": {
     "name": "#%%\n"
    }
   }
  },
  {
   "cell_type": "code",
   "execution_count": 192,
   "outputs": [],
   "source": [
    "A = data_user[data_user['group'] == 'A']\n",
    "B = data_user[data_user['group'] == 'B']"
   ],
   "metadata": {
    "collapsed": false,
    "pycharm": {
     "name": "#%%\n"
    }
   }
  },
  {
   "cell_type": "code",
   "execution_count": 147,
   "outputs": [
    {
     "data": {
      "text/plain": "((2451, 8), (2549, 8))"
     },
     "execution_count": 147,
     "metadata": {},
     "output_type": "execute_result"
    }
   ],
   "source": [
    "A.shape, B.shape"
   ],
   "metadata": {
    "collapsed": false,
    "pycharm": {
     "name": "#%%\n"
    }
   }
  },
  {
   "cell_type": "code",
   "execution_count": 148,
   "outputs": [],
   "source": [
    "def show_hist(A, B, feature):\n",
    "    plt.figure(figsize=(10, 8))\n",
    "    A[feature].hist( density=True, bins=int(np.sqrt(A.shape[0])), label='A')\n",
    "    B[feature].hist(density=True, alpha=0.6, bins=int(np.sqrt(A.shape[0])), label='B')\n",
    "\n",
    "    plt.axvline(x=A[feature].mean(), color='r', label='A mean')\n",
    "    plt.axvline(x=B[feature].mean(), color='g', label='B mean')\n",
    "\n",
    "    plt.axvline(x=A[feature].median(), color='yellow', label='A median')\n",
    "    plt.axvline(x=B[feature].median(), color='indigo', label='B median')\n",
    "\n",
    "    plt.xlabel(feature)\n",
    "\n",
    "    plt.legend()\n",
    "    plt.show()"
   ],
   "metadata": {
    "collapsed": false,
    "pycharm": {
     "name": "#%%\n"
    }
   }
  },
  {
   "cell_type": "code",
   "execution_count": 149,
   "outputs": [
    {
     "data": {
      "text/plain": "<Figure size 720x576 with 1 Axes>",
      "image/png": "[encoded data removed]"
     },
     "metadata": {
      "needs_background": "light"
     },
     "output_type": "display_data"
    }
   ],
   "source": [
    "show_hist(A, B, 'metric_value')"
   ],
   "metadata": {
    "collapsed": false,
    "pycharm": {
     "name": "#%%\n"
    }
   }
  },
  {
   "cell_type": "code",
   "execution_count": 187,
   "outputs": [
    {
     "data": {
      "text/plain": "<AxesSubplot:xlabel='group', ylabel='metric_value'>"
     },
     "execution_count": 187,
     "metadata": {},
     "output_type": "execute_result"
    },
    {
     "data": {
      "text/plain": "<Figure size 720x576 with 1 Axes>",
      "image/png": "[encoded data removed]"
     },
     "metadata": {
      "needs_background": "light"
     },
     "output_type": "display_data"
    }
   ],
   "source": [
    "plt.figure(figsize=(10, 8))\n",
    "sns.boxplot(x='group', y='metric_value',\n",
    "            data=data_user, showmeans=True)"
   ],
   "metadata": {
    "collapsed": false,
    "pycharm": {
     "name": "#%%\n"
    }
   }
  },
  {
   "cell_type": "markdown",
   "source": [
    "#### 1. Проверка распределения на нормальность\n",
    "Проверим распределения на нормальность, чтобы узнать, можно ли использовать параметрические критерии."
   ],
   "metadata": {
    "collapsed": false,
    "pycharm": {
     "name": "#%% md\n"
    }
   }
  },
  {
   "cell_type": "code",
   "execution_count": 102,
   "outputs": [],
   "source": [
    "alpha = 0.05"
   ],
   "metadata": {
    "collapsed": false,
    "pycharm": {
     "name": "#%%\n"
    }
   }
  },
  {
   "cell_type": "markdown",
   "source": [
    "##### 1.1 Тест Колмогорова-Смирнова"
   ],
   "metadata": {
    "collapsed": false,
    "pycharm": {
     "name": "#%% md\n"
    }
   }
  },
  {
   "cell_type": "code",
   "execution_count": 150,
   "outputs": [],
   "source": [
    "def check_normal_kol(A, B, feature):\n",
    "    res_cont = kstest(A[feature],\n",
    "                 norm.rvs(loc=A[feature].mean(), scale=A[feature].std(), size=10000))\n",
    "    print(res_cont)\n",
    "    print('Distribution of control group is {}normal\\n'.format( {True:'not ', False:''}[res_cont[1] < alpha]))\n",
    "\n",
    "    res_test = kstest(B[feature],\n",
    "                 norm.rvs(loc=B[feature].mean(), scale=B[feature].std(), size=10000))\n",
    "    print(res_test)\n",
    "    print('Distribution of test group is {}normal'.format( {True:'not ', False:''}[res_test[1] < alpha]))"
   ],
   "metadata": {
    "collapsed": false,
    "pycharm": {
     "name": "#%%\n"
    }
   }
  },
  {
   "cell_type": "code",
   "execution_count": 151,
   "outputs": [
    {
     "name": "stdout",
     "output_type": "stream",
     "text": [
      "KstestResult(statistic=0.025250142798857608, pvalue=0.15923530711559253)\n",
      "Distribution of control group is normal\n",
      "\n",
      "KstestResult(statistic=0.036394586112200866, pvalue=0.008943711064922866)\n",
      "Distribution of test group is not normal\n"
     ]
    }
   ],
   "source": [
    "check_normal_kol(A, B, 'metric_value')"
   ],
   "metadata": {
    "collapsed": false,
    "pycharm": {
     "name": "#%%\n"
    }
   }
  },
  {
   "cell_type": "markdown",
   "source": [
    "##### 1.2 Критерий Шапиро-Уилкса"
   ],
   "metadata": {
    "collapsed": false,
    "pycharm": {
     "name": "#%% md\n"
    }
   }
  },
  {
   "cell_type": "code",
   "execution_count": 159,
   "outputs": [],
   "source": [
    "def check_normal_shapiro(A, B, feature):\n",
    "    res_cont = shapiro(A[feature])\n",
    "    print(res_cont)\n",
    "    print('Distributions of control group is {}normal\\n'.format( {True:'not ', False:''}[res_cont[1] < alpha]))\n",
    "\n",
    "    res_test = shapiro(B[feature])\n",
    "    print(res_test)\n",
    "    print('Distributions of test group is {}normal'.format( {True:'not ', False:''}[res_test[1] < alpha]))"
   ],
   "metadata": {
    "collapsed": false,
    "pycharm": {
     "name": "#%%\n"
    }
   }
  },
  {
   "cell_type": "code",
   "execution_count": 160,
   "outputs": [
    {
     "name": "stdout",
     "output_type": "stream",
     "text": [
      "ShapiroResult(statistic=0.9951456189155579, pvalue=3.546447828739474e-07)\n",
      "Distributions of control group is not normal\n",
      "\n",
      "ShapiroResult(statistic=0.9923585057258606, pvalue=2.4686641619808825e-10)\n",
      "Distributions of test group is not normal\n"
     ]
    }
   ],
   "source": [
    "check_normal_shapiro(A, B, 'metric_value')"
   ],
   "metadata": {
    "collapsed": false,
    "pycharm": {
     "name": "#%%\n"
    }
   }
  },
  {
   "cell_type": "markdown",
   "source": [
    "Результат критерия Шапиро-Уилкса предпочтительней, т.к. он обладает большей мощностью (меньше вероятность ошибочно принять H0 - что распределение нормальное).\n",
    "Оба распределения не являются нормальными, поэтому будем использовать непараметрические критерии."
   ],
   "metadata": {
    "collapsed": false,
    "pycharm": {
     "name": "#%% md\n"
    }
   }
  },
  {
   "cell_type": "markdown",
   "source": [
    "#### 2 Проверка на равенство дисперсий\n",
    "  Для проверки используем критерий Левена, т.к. он менее чувствителен к отклонению распределения от нормального\n"
   ],
   "metadata": {
    "collapsed": false,
    "pycharm": {
     "name": "#%% md\n"
    }
   }
  },
  {
   "cell_type": "markdown",
   "source": [
    "##### 2.1 Критерий Левена"
   ],
   "metadata": {
    "collapsed": false,
    "pycharm": {
     "name": "#%% md\n"
    }
   }
  },
  {
   "cell_type": "code",
   "execution_count": 154,
   "outputs": [],
   "source": [
    "from scipy.stats import f_oneway, bartlett, levene\n",
    "def levene_test(df1, df2, alpha=0.05):\n",
    "    st = levene(df1, df2)\n",
    "    print('Variances of distributions is {}equal\\n'.format({True:'not ', False:''}[st[1] < alpha]))"
   ],
   "metadata": {
    "collapsed": false,
    "pycharm": {
     "name": "#%%\n"
    }
   }
  },
  {
   "cell_type": "code",
   "execution_count": 161,
   "outputs": [
    {
     "name": "stdout",
     "output_type": "stream",
     "text": [
      "Variances of distributions is equal\n",
      "\n"
     ]
    }
   ],
   "source": [
    "levene_test(A['metric_value'], B['metric_value'])"
   ],
   "metadata": {
    "collapsed": false,
    "pycharm": {
     "name": "#%%\n"
    }
   }
  },
  {
   "cell_type": "markdown",
   "source": [
    "#### 3. Проверка на стат знчимость различий\n",
    "Используем U-критерий Манна-Уитни, т.к. он не требует нормальность и однородность дисперсий"
   ],
   "metadata": {
    "collapsed": false,
    "pycharm": {
     "name": "#%% md\n"
    }
   }
  },
  {
   "cell_type": "markdown",
   "source": [
    "##### 3.1 U-Критерий Манна-Уитни"
   ],
   "metadata": {
    "collapsed": false,
    "pycharm": {
     "name": "#%% md\n"
    }
   }
  },
  {
   "cell_type": "code",
   "execution_count": 157,
   "outputs": [
    {
     "name": "stdout",
     "output_type": "stream",
     "text": [
      "MannwhitneyuResult(statistic=1829355.0, pvalue=3.6017085032216584e-15)\n",
      "Diffs is significant\n",
      "\n"
     ]
    }
   ],
   "source": [
    "st = mannwhitneyu(A.metric_value.unique(), B.metric_value.unique())\n",
    "print(st)\n",
    "print('Diffs is {}significant\\n'.format( {False:'not ',\n",
    "                                          True:''}[st[1] < alpha]))"
   ],
   "metadata": {
    "collapsed": false,
    "pycharm": {
     "name": "#%%\n"
    }
   }
  },
  {
   "cell_type": "markdown",
   "source": [
    "Получили статистически значимое различие"
   ],
   "metadata": {
    "collapsed": false,
    "pycharm": {
     "name": "#%% md\n"
    }
   }
  },
  {
   "cell_type": "code",
   "execution_count": 162,
   "outputs": [
    {
     "name": "stdout",
     "output_type": "stream",
     "text": [
      "difference: 433.0\n",
      "observed effect: 7.0 %\n"
     ]
    }
   ],
   "source": [
    "print('difference:', np.round(B.metric_value.mean() - A.metric_value.mean()))\n",
    "print(f'observed effect: {np.round(100 * (B.metric_value.mean() - A.metric_value.mean()) / A.metric_value.mean())} %')"
   ],
   "metadata": {
    "collapsed": false,
    "pycharm": {
     "name": "#%%\n"
    }
   }
  },
  {
   "cell_type": "markdown",
   "source": [
    "Получили статистически значимый эффект увеличения metric_value на 7% (на 433)"
   ],
   "metadata": {
    "collapsed": false,
    "pycharm": {
     "name": "#%% md\n"
    }
   }
  },
  {
   "cell_type": "markdown",
   "source": [
    "Просто интересно, что выдаст t test"
   ],
   "metadata": {
    "collapsed": false,
    "pycharm": {
     "name": "#%% md\n"
    }
   }
  },
  {
   "cell_type": "code",
   "execution_count": 163,
   "outputs": [
    {
     "name": "stdout",
     "output_type": "stream",
     "text": [
      "Ttest_indResult(statistic=-8.943431681351806, pvalue=5.219043548940759e-19)\n",
      "Diffs is significant\n",
      "\n"
     ]
    }
   ],
   "source": [
    "t_st = ttest_ind(A.metric_value, B.metric_value)\n",
    "print(t_st)\n",
    "print('Diffs is {}significant\\n'.format( {False:'not ',\n",
    "                                          True:''}[t_st[1] < alpha]))"
   ],
   "metadata": {
    "collapsed": false,
    "pycharm": {
     "name": "#%%\n"
    }
   }
  },
  {
   "cell_type": "markdown",
   "source": [
    "#### 4 Расчет размера выборки"
   ],
   "metadata": {
    "collapsed": false,
    "pycharm": {
     "name": "#%% md\n"
    }
   }
  },
  {
   "cell_type": "code",
   "execution_count": 27,
   "outputs": [],
   "source": [
    "from statsmodels.stats.power import TTestIndPower"
   ],
   "metadata": {
    "collapsed": false,
    "pycharm": {
     "name": "#%%\n"
    }
   }
  },
  {
   "cell_type": "code",
   "execution_count": 164,
   "outputs": [
    {
     "name": "stdout",
     "output_type": "stream",
     "text": [
      "effect 7%\n",
      "  Нужно набрать: 3205 человек для каждой группы\n",
      "  Для этого понадобится 17.948 дней\n",
      "effect 8%\n",
      "  Нужно набрать: 2454 человек для каждой группы\n",
      "  Для этого понадобится 13.7424 дней\n",
      "effect 10%\n",
      "  Нужно набрать: 1571 человек для каждой группы\n",
      "  Для этого понадобится 8.7976 дней\n"
     ]
    }
   ],
   "source": [
    "effect = 0.07\n",
    "alpha = 0.05\n",
    "power = 0.8\n",
    "analysis = TTestIndPower()\n",
    "# result = analysis.solve_power(effect, power=power, ratio=1.0, alpha=alpha)\n",
    "peop_per_day = data_user.shape[0] / 14\n",
    "\n",
    "for eff in [7, 8, 10]:\n",
    "    result = analysis.solve_power(eff/100, power=power, ratio=1.0, alpha=alpha)\n",
    "    cnt = int(result)+1\n",
    "    print(f'effect {eff}%')\n",
    "    print(f'  Нужно набрать: {cnt} человек для каждой группы')\n",
    "    # print(f'  Для контрольной нужно набрать еще: {cnt - A.shape[0]}')\n",
    "    # print(f'  Для экспериментальной нужно набрать еще: {cnt - B.shape[0]}')\n",
    "    print(f'  Для этого понадобится {2*cnt / peop_per_day} дней')"
   ],
   "metadata": {
    "collapsed": false,
    "pycharm": {
     "name": "#%%\n"
    }
   }
  },
  {
   "cell_type": "markdown",
   "source": [
    "#####  Проведем тест без пользователей с users=0, visits=0, churn_users=1"
   ],
   "metadata": {
    "collapsed": false,
    "pycharm": {
     "name": "#%% md\n"
    }
   }
  },
  {
   "cell_type": "code",
   "execution_count": 165,
   "outputs": [],
   "source": [
    "g = iter(data_user[(data_user['visits'] == 0) & (data_user['users'] == 0)].groupby('group'))\n",
    "_, A = next(g)\n",
    "_, B = next(g)"
   ],
   "metadata": {
    "collapsed": false,
    "pycharm": {
     "name": "#%%\n"
    }
   }
  },
  {
   "cell_type": "code",
   "execution_count": 166,
   "outputs": [
    {
     "data": {
      "text/plain": "<Figure size 720x576 with 1 Axes>",
      "image/png": "[encoded data removed]"
     },
     "metadata": {
      "needs_background": "light"
     },
     "output_type": "display_data"
    }
   ],
   "source": [
    "show_hist(A, B, 'metric_value')"
   ],
   "metadata": {
    "collapsed": false,
    "pycharm": {
     "name": "#%%\n"
    }
   }
  },
  {
   "cell_type": "code",
   "execution_count": 167,
   "outputs": [
    {
     "data": {
      "text/plain": "<AxesSubplot:xlabel='group', ylabel='metric_value'>"
     },
     "execution_count": 167,
     "metadata": {},
     "output_type": "execute_result"
    },
    {
     "data": {
      "text/plain": "<Figure size 720x576 with 1 Axes>",
      "image/png": "[encoded data removed]"
     },
     "metadata": {
      "needs_background": "light"
     },
     "output_type": "display_data"
    }
   ],
   "source": [
    "plt.figure(figsize=(10, 8))\n",
    "sns.boxplot(x='group', y='metric_value',\n",
    "            data=data_user, showmeans=True)"
   ],
   "metadata": {
    "collapsed": false,
    "pycharm": {
     "name": "#%%\n"
    }
   }
  },
  {
   "cell_type": "code",
   "execution_count": 168,
   "outputs": [
    {
     "name": "stdout",
     "output_type": "stream",
     "text": [
      "KstestResult(statistic=0.025194098883572567, pvalue=0.4706931833803918)\n",
      "Distribution of control group is normal\n",
      "\n",
      "KstestResult(statistic=0.04047630147630148, pvalue=0.046263978750277546)\n",
      "Distribution of test group is not normal\n",
      "ShapiroResult(statistic=0.9958456158638, pvalue=0.0017358018085360527)\n",
      "Distributions of control group is not normal\n",
      "\n",
      "ShapiroResult(statistic=0.9931009411811829, pvalue=1.0515710528125055e-05)\n",
      "Distributions of test group is not normal\n",
      "Variances of distributions is equal\n",
      "\n",
      "MannwhitneyuResult(statistic=568116.0, pvalue=1.0803072774593858e-08)\n",
      "Diffs is significant\n",
      "\n",
      "difference: 432.0\n",
      "observed effect: 7.0 %\n"
     ]
    }
   ],
   "source": [
    "check_normal_kol(A, B, 'metric_value')\n",
    "check_normal_shapiro(A, B, 'metric_value')\n",
    "\n",
    "levene_test(A['metric_value'], B['metric_value'])\n",
    "\n",
    "st = mannwhitneyu(A.metric_value.unique(), B.metric_value.unique())\n",
    "print(st)\n",
    "print('Diffs is {}significant\\n'.format( {False:'not ',\n",
    "                                          True:''}[st[1] < alpha]))\n",
    "\n",
    "print('difference:', np.round(B.metric_value.mean() - A.metric_value.mean()))\n",
    "print(f'observed effect: {np.round(100 * (B.metric_value.mean() - A.metric_value.mean()) / A.metric_value.mean())} %')"
   ],
   "metadata": {
    "collapsed": false,
    "pycharm": {
     "name": "#%%\n"
    }
   }
  },
  {
   "cell_type": "markdown",
   "source": [
    "Получил похожие результаты"
   ],
   "metadata": {
    "collapsed": false,
    "pycharm": {
     "name": "#%% md\n"
    }
   }
  },
  {
   "cell_type": "markdown",
   "source": [
    "##### Посмотрим на агрегированные в рамках бакета метрики"
   ],
   "metadata": {
    "collapsed": false,
    "pycharm": {
     "name": "#%% md\n"
    }
   }
  },
  {
   "cell_type": "markdown",
   "source": [
    "1. Кол-во отказов"
   ],
   "metadata": {
    "collapsed": false,
    "pycharm": {
     "name": "#%% md\n"
    }
   }
  },
  {
   "cell_type": "code",
   "execution_count": 194,
   "outputs": [],
   "source": [
    "data_bucket.loc[:9, 'group'] = 'A'\n",
    "data_bucket.loc[9:, 'group'] = 'B'\n",
    "\n",
    "A = data_bucket[data_bucket['group'] == 'A']\n",
    "B = data_bucket[data_bucket['group'] == 'B']"
   ],
   "metadata": {
    "collapsed": false,
    "pycharm": {
     "name": "#%%\n"
    }
   }
  },
  {
   "cell_type": "code",
   "execution_count": 195,
   "outputs": [
    {
     "data": {
      "text/plain": "<Figure size 720x576 with 1 Axes>",
      "image/png": "[encoded data removed]"
     },
     "metadata": {
      "needs_background": "light"
     },
     "output_type": "display_data"
    }
   ],
   "source": [
    "show_hist(A, B, 'churn_users')"
   ],
   "metadata": {
    "collapsed": false,
    "pycharm": {
     "name": "#%%\n"
    }
   }
  },
  {
   "cell_type": "code",
   "execution_count": 202,
   "outputs": [
    {
     "data": {
      "text/plain": "<AxesSubplot:xlabel='group', ylabel='churn_users'>"
     },
     "execution_count": 202,
     "metadata": {},
     "output_type": "execute_result"
    },
    {
     "data": {
      "text/plain": "<Figure size 720x576 with 1 Axes>",
      "image/png": "[encoded data removed]"
     },
     "metadata": {
      "needs_background": "light"
     },
     "output_type": "display_data"
    }
   ],
   "source": [
    "plt.figure(figsize=(10, 8))\n",
    "sns.boxplot(x='group', y='churn_users',\n",
    "            data=data_bucket, showmeans=True)"
   ],
   "metadata": {
    "collapsed": false,
    "pycharm": {
     "name": "#%%\n"
    }
   }
  },
  {
   "cell_type": "code",
   "execution_count": 203,
   "outputs": [
    {
     "name": "stdout",
     "output_type": "stream",
     "text": [
      "KstestResult(statistic=0.2677888888888889, pvalue=0.46135349391906677)\n",
      "Distribution of control group is normal\n",
      "\n",
      "KstestResult(statistic=0.2991857142857143, pvalue=0.4699586504931318)\n",
      "Distribution of test group is normal\n",
      "ShapiroResult(statistic=0.8086885213851929, pvalue=0.02564987540245056)\n",
      "Distributions of control group is not normal\n",
      "\n",
      "ShapiroResult(statistic=0.8459286689758301, pvalue=0.11276251077651978)\n",
      "Distributions of test group is normal\n"
     ]
    }
   ],
   "source": [
    "check_normal_kol(A, B, 'churn_users')\n",
    "check_normal_shapiro(A, B, 'churn_users')"
   ],
   "metadata": {
    "collapsed": false,
    "pycharm": {
     "name": "#%%\n"
    }
   }
  },
  {
   "cell_type": "markdown",
   "source": [
    "Тесты показали нормальность распределения, но если посмотреть на гистограммы, возникают сомнения по этому поводу.\n",
    " Поэтому также использовал непараметрический тест Манна-Уитни"
   ],
   "metadata": {
    "collapsed": false,
    "pycharm": {
     "name": "#%% md\n"
    }
   }
  },
  {
   "cell_type": "code",
   "execution_count": 208,
   "outputs": [
    {
     "name": "stdout",
     "output_type": "stream",
     "text": [
      "Variances of distributions is equal\n",
      "\n",
      "MannwhitneyuResult(statistic=2.0, pvalue=0.0006993006993006993)\n",
      "Diffs is significant\n",
      "\n"
     ]
    }
   ],
   "source": [
    "levene_test(A['churn_users'], B['churn_users'])\n",
    "\n",
    "st = mannwhitneyu(A.churn_users.unique(), B.churn_users.unique())\n",
    "print(st)\n",
    "print('Diffs is {}significant\\n'.format( {False:'not ',\n",
    "                                          True:''}[st[1] < alpha]))"
   ],
   "metadata": {
    "collapsed": false,
    "pycharm": {
     "name": "#%%\n"
    }
   }
  },
  {
   "cell_type": "code",
   "execution_count": 210,
   "outputs": [
    {
     "name": "stdout",
     "output_type": "stream",
     "text": [
      "Ttest_indResult(statistic=-6.3214510835450515, pvalue=1.8862865407437538e-05)\n",
      "Diffs is significant\n",
      "\n"
     ]
    }
   ],
   "source": [
    "t_st = ttest_ind(A.churn_users, B.churn_users)\n",
    "print(t_st)\n",
    "print('Diffs is {}significant\\n'.format( {False:'not ',\n",
    "                                          True:''}[t_st[1] < alpha]))"
   ],
   "metadata": {
    "collapsed": false,
    "pycharm": {
     "name": "#%%\n"
    }
   }
  },
  {
   "cell_type": "markdown",
   "source": [
    "T тесть также выдал стат. значимость различий"
   ],
   "metadata": {
    "collapsed": false,
    "pycharm": {
     "name": "#%% md\n"
    }
   }
  },
  {
   "cell_type": "code",
   "execution_count": 191,
   "outputs": [
    {
     "name": "stdout",
     "output_type": "stream",
     "text": [
      "difference: 88.0\n",
      "observed effect: 53.0 %\n"
     ]
    }
   ],
   "source": [
    "print('difference:', np.round(B.churn_users.mean() - A.churn_users.mean()))\n",
    "print(f'observed effect: {np.round(100 * (B.churn_users.mean() - A.churn_users.mean()) / A.churn_users.mean())} %')"
   ],
   "metadata": {
    "collapsed": false,
    "pycharm": {
     "name": "#%%\n"
    }
   }
  },
  {
   "cell_type": "markdown",
   "source": [
    "Получили статистически значимое увеличение churn_users"
   ],
   "metadata": {
    "collapsed": false,
    "pycharm": {
     "name": "#%% md\n"
    }
   }
  },
  {
   "cell_type": "markdown",
   "source": [
    "2. Кол-во нецелевых сессий"
   ],
   "metadata": {
    "collapsed": false,
    "pycharm": {
     "name": "#%% md\n"
    }
   }
  },
  {
   "cell_type": "code",
   "execution_count": 199,
   "outputs": [
    {
     "data": {
      "text/plain": "<Figure size 720x576 with 1 Axes>",
      "image/png": "[encoded data removed]"
     },
     "metadata": {
      "needs_background": "light"
     },
     "output_type": "display_data"
    }
   ],
   "source": [
    "show_hist(A, B, 'churn_visits')"
   ],
   "metadata": {
    "collapsed": false,
    "pycharm": {
     "name": "#%%\n"
    }
   }
  },
  {
   "cell_type": "code",
   "execution_count": 200,
   "outputs": [
    {
     "data": {
      "text/plain": "<AxesSubplot:xlabel='group', ylabel='churn_visits'>"
     },
     "execution_count": 200,
     "metadata": {},
     "output_type": "execute_result"
    },
    {
     "data": {
      "text/plain": "<Figure size 720x576 with 1 Axes>",
      "image/png": "[encoded data removed]"
     },
     "metadata": {
      "needs_background": "light"
     },
     "output_type": "display_data"
    }
   ],
   "source": [
    "plt.figure(figsize=(10, 8))\n",
    "sns.boxplot(x='group', y='churn_visits',\n",
    "            data=data_bucket, showmeans=True)"
   ],
   "metadata": {
    "collapsed": false,
    "pycharm": {
     "name": "#%%\n"
    }
   }
  },
  {
   "cell_type": "code",
   "execution_count": 205,
   "outputs": [
    {
     "name": "stdout",
     "output_type": "stream",
     "text": [
      "KstestResult(statistic=0.18076666666666666, pvalue=0.8825837814346045)\n",
      "Distribution of control group is normal\n",
      "\n",
      "KstestResult(statistic=0.21824285714285716, pvalue=0.8286851332458437)\n",
      "Distribution of test group is normal\n",
      "ShapiroResult(statistic=0.931236982345581, pvalue=0.49321380257606506)\n",
      "Distributions of control group is normal\n",
      "\n",
      "ShapiroResult(statistic=0.9275419116020203, pvalue=0.5301929712295532)\n",
      "Distributions of test group is normal\n",
      "Variances of distributions is equal\n",
      "\n",
      "MannwhitneyuResult(statistic=20.0, pvalue=0.2522727272727273)\n",
      "Diffs is not significant\n",
      "\n"
     ]
    }
   ],
   "source": [
    "check_normal_kol(A, B, 'churn_visits')\n",
    "check_normal_shapiro(A, B, 'churn_visits')\n",
    "\n",
    "levene_test(A['churn_visits'], B['churn_visits'])\n",
    "\n",
    "st = mannwhitneyu(A.churn_visits.unique(), B.churn_visits.unique())\n",
    "print(st)\n",
    "print('Diffs is {}significant\\n'.format( {False:'not ',\n",
    "                                          True:''}[st[1] < alpha]))"
   ],
   "metadata": {
    "collapsed": false,
    "pycharm": {
     "name": "#%%\n"
    }
   }
  },
  {
   "cell_type": "code",
   "execution_count": 209,
   "outputs": [
    {
     "name": "stdout",
     "output_type": "stream",
     "text": [
      "Ttest_indResult(statistic=-1.2834338805088847, pvalue=0.22017797308896006)\n",
      "Diffs is not significant\n",
      "\n"
     ]
    }
   ],
   "source": [
    "t_st = ttest_ind(A.churn_visits, B.churn_visits)\n",
    "print(t_st)\n",
    "print('Diffs is {}significant\\n'.format({False: 'not ',\n",
    "                                         True: ''}[t_st[1] < alpha]))"
   ],
   "metadata": {
    "collapsed": false,
    "pycharm": {
     "name": "#%%\n"
    }
   }
  },
  {
   "cell_type": "markdown",
   "source": [
    "Различия для churn_visits не стат. значимы"
   ],
   "metadata": {
    "collapsed": false,
    "pycharm": {
     "name": "#%% md\n"
    }
   }
  },
  {
   "cell_type": "markdown",
   "source": [
    "Итоги:\n",
    "* Была замечена неоднозначность данных и даны предполагаемые причины\n",
    "* Проведен тест для metric_value на пользователя.\n",
    "    Получен статически значимый прирост в среднем на 7% (на 433)\n",
    "* Оценены необходимый размер выборки для получения стат. значимых различий и кол-во дней необходимых для этого:\n",
    "1. effect 7%:\n",
    "  Нужно набрать: 3205 человек для каждой группы\n",
    "  Для этого понадобится 18 дней\n",
    "2. effect 8%:\n",
    "  Нужно набрать: 2454 человек для каждой группы\n",
    "  Для этого понадобится 14 дней\n",
    "3. effect 10%:\n",
    "  Нужно набрать: 1571 человек для каждой группы\n",
    "  Для этого понадобится 9 дней"
   ],
   "metadata": {
    "collapsed": false,
    "pycharm": {
     "name": "#%% md\n"
    }
   }
  }
 ],
 "metadata": {
  "kernelspec": {
   "name": "phys",
   "language": "python",
   "display_name": "phys_python"
  },
  "language_info": {
   "codemirror_mode": {
    "name": "ipython",
    "version": 2
   },
   "file_extension": ".py",
   "mimetype": "text/x-python",
   "name": "python",
   "nbconvert_exporter": "python",
   "pygments_lexer": "ipython2",
   "version": "2.7.6"
  }
 },
 "nbformat": 4,
 "nbformat_minor": 0
}